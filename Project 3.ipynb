{
 "cells": [
  {
   "cell_type": "markdown",
   "metadata": {},
   "source": [
    "# Problem Statement\n",
    "\n",
    "Collecting posts from 2 subreddits using Reddit's API, use NLP techniques to train a classifier for which subreddit each post comes from.\n",
    "\n",
    "Project Overview:\n",
    "NLP techniques that will be used are CountVectorizer and Tfid-Ifd. For each technique, different models will be tested. These models are Naive Bayes' models, Multinomial; Gaussian; Bernoulli and other classification models such as KNN and Logistic Regression. KNN and Logistic Regression models will be subjected to a grid search to better optimize the model. For every model used, the confusion matrix and ROC AUC will be used to evaluate each classification model's effectiveness. \n",
    "\n",
    "As the project is not linear; the procedure for one NLP technique, one model and its associated performance is:\n",
    "- Extracting the posts using Reddit API\n",
    "- EDA to identify target columns\n",
    "- NLP transformation\n",
    "- Modelling\n",
    "- Classification model performance\n",
    "\n",
    "## *Note: Please Run Notebook from middle*"
   ]
  },
  {
   "cell_type": "markdown",
   "metadata": {},
   "source": [
    "## 1) Posts Extraction"
   ]
  },
  {
   "cell_type": "code",
   "execution_count": 1,
   "metadata": {},
   "outputs": [],
   "source": [
    "import requests\n",
    "import time\n",
    "import pandas as pd"
   ]
  },
  {
   "cell_type": "code",
   "execution_count": 2,
   "metadata": {},
   "outputs": [],
   "source": [
    "url_1 = \"https://www.reddit.com/r/Warframe/hot.json\""
   ]
  },
  {
   "cell_type": "code",
   "execution_count": 3,
   "metadata": {},
   "outputs": [],
   "source": [
    "#need to specify user-agent because default using python, it has its own user-agent. Therefore, with many users \n",
    "#connecting to the web at the same time, it will return response code of 429.\n",
    "headers = {'User-agent' : 'Evan 0.1'}"
   ]
  },
  {
   "cell_type": "code",
   "execution_count": 4,
   "metadata": {},
   "outputs": [],
   "source": [
    "res_1 = requests.get(url_1, headers=headers)"
   ]
  },
  {
   "cell_type": "code",
   "execution_count": 5,
   "metadata": {},
   "outputs": [
    {
     "data": {
      "text/plain": [
       "200"
      ]
     },
     "execution_count": 5,
     "metadata": {},
     "output_type": "execute_result"
    }
   ],
   "source": [
    "res_1.status_code"
   ]
  },
  {
   "cell_type": "code",
   "execution_count": 6,
   "metadata": {},
   "outputs": [],
   "source": [
    "war_json = res_1.json()"
   ]
  },
  {
   "cell_type": "code",
   "execution_count": 7,
   "metadata": {},
   "outputs": [
    {
     "data": {
      "text/plain": [
       "['data', 'kind']"
      ]
     },
     "execution_count": 7,
     "metadata": {},
     "output_type": "execute_result"
    }
   ],
   "source": [
    "sorted(war_json.keys())"
   ]
  },
  {
   "cell_type": "code",
   "execution_count": 8,
   "metadata": {},
   "outputs": [
    {
     "data": {
      "text/plain": [
       "['after', 'before', 'children', 'dist', 'modhash']"
      ]
     },
     "execution_count": 8,
     "metadata": {},
     "output_type": "execute_result"
    }
   ],
   "source": [
    "sorted(war_json['data'].keys())"
   ]
  },
  {
   "cell_type": "code",
   "execution_count": 9,
   "metadata": {
    "scrolled": true
   },
   "outputs": [
    {
     "data": {
      "text/plain": [
       "27"
      ]
     },
     "execution_count": 9,
     "metadata": {},
     "output_type": "execute_result"
    }
   ],
   "source": [
    "len(war_json['data']['children'])"
   ]
  },
  {
   "cell_type": "code",
   "execution_count": 10,
   "metadata": {},
   "outputs": [
    {
     "data": {
      "text/plain": [
       "['t3_asfcn4',\n",
       " 't3_chp9zc',\n",
       " 't3_chuuvn',\n",
       " 't3_chuebe',\n",
       " 't3_chrku6',\n",
       " 't3_chr7ue',\n",
       " 't3_chvpw7',\n",
       " 't3_chr960',\n",
       " 't3_chl4nh',\n",
       " 't3_chtask',\n",
       " 't3_chotwt',\n",
       " 't3_chqnyj',\n",
       " 't3_chvpru',\n",
       " 't3_chn98j',\n",
       " 't3_chqah7',\n",
       " 't3_chrssn',\n",
       " 't3_cho3jx',\n",
       " 't3_chsar5',\n",
       " 't3_cho5rm',\n",
       " 't3_chsrix',\n",
       " 't3_chsttm',\n",
       " 't3_chtk6v',\n",
       " 't3_chmm3s',\n",
       " 't3_chl296',\n",
       " 't3_chtek0',\n",
       " 't3_cht8ii',\n",
       " 't3_chqa2u']"
      ]
     },
     "execution_count": 10,
     "metadata": {},
     "output_type": "execute_result"
    }
   ],
   "source": [
    "list_id = [i['data']['name'] for i in war_json['data']['children']]\n",
    "list_id"
   ]
  },
  {
   "cell_type": "code",
   "execution_count": 11,
   "metadata": {},
   "outputs": [
    {
     "data": {
      "text/plain": [
       "'t3_chqa2u'"
      ]
     },
     "execution_count": 11,
     "metadata": {},
     "output_type": "execute_result"
    }
   ],
   "source": [
    "war_json['data']['after']"
   ]
  },
  {
   "cell_type": "code",
   "execution_count": 12,
   "metadata": {},
   "outputs": [],
   "source": [
    "param = {'after': war_json['data']['after']}"
   ]
  },
  {
   "cell_type": "code",
   "execution_count": 13,
   "metadata": {},
   "outputs": [
    {
     "data": {
      "text/plain": [
       "<Response [200]>"
      ]
     },
     "execution_count": 13,
     "metadata": {},
     "output_type": "execute_result"
    }
   ],
   "source": [
    "requests.get(url_1, params=param, headers=headers)"
   ]
  },
  {
   "cell_type": "code",
   "execution_count": 14,
   "metadata": {
    "scrolled": true
   },
   "outputs": [
    {
     "name": "stdout",
     "output_type": "stream",
     "text": [
      "0\n",
      "1\n",
      "2\n",
      "3\n",
      "4\n",
      "5\n",
      "6\n",
      "7\n",
      "8\n",
      "9\n",
      "10\n",
      "11\n",
      "12\n",
      "13\n",
      "14\n",
      "15\n",
      "16\n",
      "17\n",
      "18\n",
      "19\n",
      "20\n",
      "21\n",
      "22\n",
      "23\n",
      "24\n",
      "25\n",
      "26\n",
      "27\n",
      "28\n",
      "29\n",
      "30\n",
      "31\n",
      "32\n",
      "33\n",
      "34\n",
      "35\n",
      "36\n",
      "37\n",
      "38\n",
      "39\n"
     ]
    }
   ],
   "source": [
    "#extract the posts data\n",
    "posts_war = []\n",
    "after = None\n",
    "for i in range(40):\n",
    "    print(i)\n",
    "    if after == None:\n",
    "        params = {}\n",
    "    else: \n",
    "        params = {'after': after}\n",
    "    url_1= \"https://www.reddit.com/r/Warframe/hot.json\"\n",
    "    res_1 = requests.get(url_1, params=params, headers=headers)\n",
    "    if res_1.status_code == 200:\n",
    "        war_json = res_1.json()\n",
    "        posts_war.extend(war_json['data']['children'])\n",
    "        after = war_json['data']['after']\n",
    "    else:\n",
    "        print(res_1.status_code)\n",
    "        break\n",
    "    time.sleep(1)"
   ]
  },
  {
   "cell_type": "code",
   "execution_count": 15,
   "metadata": {},
   "outputs": [
    {
     "data": {
      "text/plain": [
       "982"
      ]
     },
     "execution_count": 15,
     "metadata": {},
     "output_type": "execute_result"
    }
   ],
   "source": [
    "len(posts_war)"
   ]
  },
  {
   "cell_type": "code",
   "execution_count": 16,
   "metadata": {},
   "outputs": [
    {
     "data": {
      "text/plain": [
       "982"
      ]
     },
     "execution_count": 16,
     "metadata": {},
     "output_type": "execute_result"
    }
   ],
   "source": [
    "#to check for repetition\n",
    "len(set(i['data']['name'] for i in posts_war))"
   ]
  },
  {
   "cell_type": "code",
   "execution_count": 17,
   "metadata": {},
   "outputs": [],
   "source": [
    "#There are 102 posts because the first 2 of the posts are pinned and are not considered in the 25post/page limit\n",
    "posts_war = posts_war[2:]"
   ]
  },
  {
   "cell_type": "code",
   "execution_count": 18,
   "metadata": {},
   "outputs": [
    {
     "data": {
      "text/plain": [
       "980"
      ]
     },
     "execution_count": 18,
     "metadata": {},
     "output_type": "execute_result"
    }
   ],
   "source": [
    "len(posts_war)"
   ]
  },
  {
   "cell_type": "code",
   "execution_count": 19,
   "metadata": {},
   "outputs": [],
   "source": [
    "#Repeat the above steps for the other sub reddit page: apexlegends\n",
    "url_2 = \"https://www.reddit.com/r/apexlegends/hot.json\""
   ]
  },
  {
   "cell_type": "code",
   "execution_count": 20,
   "metadata": {},
   "outputs": [],
   "source": [
    "headers = {'User-agent' : 'Bleep blorp bot 0.1'}"
   ]
  },
  {
   "cell_type": "code",
   "execution_count": 21,
   "metadata": {},
   "outputs": [],
   "source": [
    "res_2 = requests.get(url_2, headers=headers)"
   ]
  },
  {
   "cell_type": "code",
   "execution_count": 22,
   "metadata": {},
   "outputs": [
    {
     "data": {
      "text/plain": [
       "200"
      ]
     },
     "execution_count": 22,
     "metadata": {},
     "output_type": "execute_result"
    }
   ],
   "source": [
    "res_2.status_code"
   ]
  },
  {
   "cell_type": "code",
   "execution_count": 23,
   "metadata": {},
   "outputs": [],
   "source": [
    "apex_json = res_2.json()"
   ]
  },
  {
   "cell_type": "code",
   "execution_count": 24,
   "metadata": {},
   "outputs": [
    {
     "data": {
      "text/plain": [
       "['data', 'kind']"
      ]
     },
     "execution_count": 24,
     "metadata": {},
     "output_type": "execute_result"
    }
   ],
   "source": [
    "sorted(apex_json.keys())"
   ]
  },
  {
   "cell_type": "code",
   "execution_count": 25,
   "metadata": {},
   "outputs": [
    {
     "data": {
      "text/plain": [
       "['after', 'before', 'children', 'dist', 'modhash']"
      ]
     },
     "execution_count": 25,
     "metadata": {},
     "output_type": "execute_result"
    }
   ],
   "source": [
    "sorted(apex_json['data'].keys())"
   ]
  },
  {
   "cell_type": "code",
   "execution_count": 26,
   "metadata": {},
   "outputs": [
    {
     "data": {
      "text/plain": [
       "27"
      ]
     },
     "execution_count": 26,
     "metadata": {},
     "output_type": "execute_result"
    }
   ],
   "source": [
    "len(apex_json['data']['children'])"
   ]
  },
  {
   "cell_type": "code",
   "execution_count": 27,
   "metadata": {},
   "outputs": [
    {
     "data": {
      "text/plain": [
       "['t3_chgblz',\n",
       " 't3_chwj9f',\n",
       " 't3_chrqq6',\n",
       " 't3_chvqrv',\n",
       " 't3_cho5h3',\n",
       " 't3_chvekl',\n",
       " 't3_chxxaj',\n",
       " 't3_chlndk',\n",
       " 't3_chqjc3',\n",
       " 't3_chojfp',\n",
       " 't3_chsfjf',\n",
       " 't3_chx093',\n",
       " 't3_chlya1',\n",
       " 't3_chp0kn',\n",
       " 't3_chsncv',\n",
       " 't3_cho85f',\n",
       " 't3_chtlkq',\n",
       " 't3_chnzo3',\n",
       " 't3_chhsje',\n",
       " 't3_chox8p',\n",
       " 't3_chu6t0',\n",
       " 't3_chqqq5',\n",
       " 't3_chvc4e',\n",
       " 't3_chslxg',\n",
       " 't3_chyq9c',\n",
       " 't3_chxqdb',\n",
       " 't3_chs336']"
      ]
     },
     "execution_count": 27,
     "metadata": {},
     "output_type": "execute_result"
    }
   ],
   "source": [
    "list_id_apex = [i['data']['name'] for i in apex_json['data']['children']]\n",
    "list_id_apex"
   ]
  },
  {
   "cell_type": "code",
   "execution_count": 28,
   "metadata": {},
   "outputs": [
    {
     "data": {
      "text/plain": [
       "'t3_chs336'"
      ]
     },
     "execution_count": 28,
     "metadata": {},
     "output_type": "execute_result"
    }
   ],
   "source": [
    "apex_json['data']['after']"
   ]
  },
  {
   "cell_type": "code",
   "execution_count": 29,
   "metadata": {},
   "outputs": [],
   "source": [
    "param = {'after': apex_json['data']['after']}"
   ]
  },
  {
   "cell_type": "code",
   "execution_count": 30,
   "metadata": {},
   "outputs": [
    {
     "data": {
      "text/plain": [
       "<Response [200]>"
      ]
     },
     "execution_count": 30,
     "metadata": {},
     "output_type": "execute_result"
    }
   ],
   "source": [
    "requests.get(url_1, params=param, headers=headers)"
   ]
  },
  {
   "cell_type": "code",
   "execution_count": 31,
   "metadata": {},
   "outputs": [
    {
     "data": {
      "text/plain": [
       "\"&amp;#x200B;\\n\\nhttps://i.redd.it/qeb183dqacc31.png\\n\\n# Apex Legends Community Reward Challenge\\n\\nWelcome to the first Apex Legends art related challenge!\\n\\nWe at r/ApexLegends are about to finalize a relatively new Reddit feature - [Community Rewards](https://www.reddit.com/r/redesign/comments/c3psbg/community_awards_everything_you_need_to_know/).\\n\\nYou can read more about community rewards in the link.\\n\\n&amp;#x200B;\\n\\n**Whenever you see a popular post, it's very likely that the post has received Reddit Rewards. Silver, Gold &amp; Platinum. Community Rewards are more or less the same, but instead of having silver, gold &amp; platinum, we can make custom rewards with custom icons up to a total of 7 rewards. This is where you talented people come in. In order for us to properly be able to populate the different rewards, we want to put your skills to the test to create the artwork!**\\n\\n&amp;#x200B;\\n\\n&amp;#x200B;\\n\\n|Placing|Price|\\n|:-|:-|\\n|1st up to 7th|Your icon will be added to a personal unique flair + Credit in winner post.|\\n\\n&amp;#x200B;\\n\\n# How to submit:\\n\\n&amp;#x200B;\\n\\nWe originally tried doing this as a contest thread but quickly realized it wasn't working as planned. NEW PLAN!\\n\\n* Submit your artwork using this Google form: [https://forms.gle/TnbfdqZiKUbGyBUz8](https://forms.gle/TnbfdqZiKUbGyBUz8)\\n* **All artwork already posted on this thread has been submitted!**\\n* Submissions will be closed on Sunday (July 28 11pm PST): [Countdown timer](https://www.timeanddate.com/countdown/generic?iso=20190728T23&amp;p0=239&amp;msg=r%2FApexLegends+Community+Reward+Challenge&amp;font=serif&amp;csz=1)\\n\\nAfter submissions are closed, we'll make another post with individual comments of each submissions. \\n\\nThat thread will be in CONTEST MODE and locked so only voting on those submissions can happen. \\n\\nAfter voting is closed, we'll announce all of the winners and set up the Community Awards section!\\n\\n# Rules:\\n\\n&amp;#x200B;\\n\\n* All contributions must to be related to Apex Legends.\\n* Image width and height should be equal, and **at least** 512px.\\n* Background **must** be transparent and image must be in a .png format.\\n* Mods will collect all submissions and create a voting thread in contest mode with individual comments of each submission.\\n* Winners are then determined by most up-voted comments.\\n\\n&amp;#x200B;\\n\\n**You may not:**\\n\\n* Use any Inappropriate, NSFW, Gore or Sexual content.\\n* Use someone else's content.\\n\\n# Competition Ends: 28th of July 2019 11pm PST  - [Countdown Timer](https://www.timeanddate.com/countdown/generic?iso=20190728T23&amp;p0=239&amp;msg=r%2FApexLegends+Community+Reward+Challenge&amp;font=serif&amp;csz=1)\\n\\n&amp;#x200B;\\n\\nThis is an example of the community rewards and how It would look.\\n\\n&amp;#x200B;\\n\\nhttps://i.redd.it/6mxq11xv9hc31.png\\n\\n[\\\\( Thanks to u\\\\/FrozenFroh \\\\)](https://i.redd.it/w79c05jkbgc31.png)\\n\\n[Less is often more.](https://i.redd.it/pskdg2lcdgc31.png)\\n\\n[Too many details more often than not disappears.](https://i.redd.it/4r3gfzkcdgc31.png)\""
      ]
     },
     "execution_count": 31,
     "metadata": {},
     "output_type": "execute_result"
    }
   ],
   "source": [
    "#example of text in first post for apex\n",
    "apex_json['data']['children'][0]['data']['selftext']"
   ]
  },
  {
   "cell_type": "code",
   "execution_count": 32,
   "metadata": {},
   "outputs": [
    {
     "data": {
      "text/plain": [
       "'[r/ApexLegends] Community Reward Challenge'"
      ]
     },
     "execution_count": 32,
     "metadata": {},
     "output_type": "execute_result"
    }
   ],
   "source": [
    "#example of title in first post for apex\n",
    "apex_json['data']['children'][0]['data']['title']"
   ]
  },
  {
   "cell_type": "code",
   "execution_count": 33,
   "metadata": {},
   "outputs": [
    {
     "data": {
      "text/plain": [
       "1564013703.0"
      ]
     },
     "execution_count": 33,
     "metadata": {},
     "output_type": "execute_result"
    }
   ],
   "source": [
    "#example of timestamp in first post for apex\n",
    "apex_json['data']['children'][0]['data']['created_utc']"
   ]
  },
  {
   "cell_type": "code",
   "execution_count": 34,
   "metadata": {},
   "outputs": [
    {
     "data": {
      "text/plain": [
       "61"
      ]
     },
     "execution_count": 34,
     "metadata": {},
     "output_type": "execute_result"
    }
   ],
   "source": [
    "#example of number of comments\n",
    "apex_json['data']['children'][0]['data']['num_comments']"
   ]
  },
  {
   "cell_type": "code",
   "execution_count": 35,
   "metadata": {},
   "outputs": [
    {
     "data": {
      "text/plain": [
       "'apexlegends'"
      ]
     },
     "execution_count": 35,
     "metadata": {},
     "output_type": "execute_result"
    }
   ],
   "source": [
    "#example of subreddit\n",
    "apex_json['data']['children'][0]['data']['subreddit']"
   ]
  },
  {
   "cell_type": "code",
   "execution_count": 36,
   "metadata": {},
   "outputs": [
    {
     "name": "stdout",
     "output_type": "stream",
     "text": [
      "0\n",
      "1\n",
      "2\n",
      "3\n",
      "4\n",
      "5\n",
      "6\n",
      "7\n",
      "8\n",
      "9\n",
      "10\n",
      "11\n",
      "12\n",
      "13\n",
      "14\n",
      "15\n",
      "16\n",
      "17\n",
      "18\n",
      "19\n",
      "20\n",
      "21\n",
      "22\n",
      "23\n",
      "24\n",
      "25\n",
      "26\n",
      "27\n",
      "28\n",
      "29\n",
      "30\n",
      "31\n",
      "32\n",
      "33\n",
      "34\n",
      "35\n",
      "36\n",
      "37\n",
      "38\n",
      "39\n"
     ]
    }
   ],
   "source": [
    "#extract the posts data\n",
    "posts_apex = []\n",
    "after = None\n",
    "for i in range(40):\n",
    "    print(i)\n",
    "    if after == None:\n",
    "        params = {}\n",
    "    else: \n",
    "        params = {'after': after}\n",
    "    url_2= \"https://www.reddit.com/r/apexlegends/hot.json\"\n",
    "    res_2 = requests.get(url_2, params=params, headers=headers)\n",
    "    if res_2.status_code == 200:\n",
    "        apex_json = res_2.json()\n",
    "        posts_apex.extend(apex_json['data']['children'])\n",
    "        after = apex_json['data']['after']\n",
    "    else:\n",
    "        print(res_2.status_code)\n",
    "        break\n",
    "    time.sleep(1)"
   ]
  },
  {
   "cell_type": "code",
   "execution_count": 37,
   "metadata": {},
   "outputs": [
    {
     "data": {
      "text/plain": [
       "1001"
      ]
     },
     "execution_count": 37,
     "metadata": {},
     "output_type": "execute_result"
    }
   ],
   "source": [
    "len(posts_apex)"
   ]
  },
  {
   "cell_type": "code",
   "execution_count": 38,
   "metadata": {},
   "outputs": [
    {
     "data": {
      "text/plain": [
       "849"
      ]
     },
     "execution_count": 38,
     "metadata": {},
     "output_type": "execute_result"
    }
   ],
   "source": [
    "#to check for repetition\n",
    "len(set(i['data']['name'] for i in posts_apex))"
   ]
  },
  {
   "cell_type": "code",
   "execution_count": 39,
   "metadata": {},
   "outputs": [],
   "source": [
    "posts_apex = posts_apex[2:]"
   ]
  },
  {
   "cell_type": "code",
   "execution_count": 40,
   "metadata": {},
   "outputs": [
    {
     "data": {
      "text/plain": [
       "999"
      ]
     },
     "execution_count": 40,
     "metadata": {},
     "output_type": "execute_result"
    }
   ],
   "source": [
    "len(posts_apex)"
   ]
  },
  {
   "cell_type": "markdown",
   "metadata": {},
   "source": [
    "## 2) EDA"
   ]
  },
  {
   "cell_type": "code",
   "execution_count": 41,
   "metadata": {},
   "outputs": [],
   "source": [
    "#extract title, subreddit, length of time it has been up and number of comments, text in posts.\n",
    "data_apex = {\n",
    "    'title': [i['data']['title'] for i in posts_apex], \n",
    "    'subreddit': [i['data']['subreddit'] for i in posts_apex], \n",
    "    'time': [i['data']['created_utc'] for i in posts_apex], \n",
    "    'comments': [i['data']['num_comments'] for i in posts_apex],\n",
    "    'text': [i['data']['selftext'] for i in posts_apex]\n",
    "}\n",
    "\n",
    "df_apex = pd.DataFrame(data_apex, columns = data_apex.keys())"
   ]
  },
  {
   "cell_type": "code",
   "execution_count": 42,
   "metadata": {},
   "outputs": [
    {
     "data": {
      "text/html": [
       "<div>\n",
       "<style scoped>\n",
       "    .dataframe tbody tr th:only-of-type {\n",
       "        vertical-align: middle;\n",
       "    }\n",
       "\n",
       "    .dataframe tbody tr th {\n",
       "        vertical-align: top;\n",
       "    }\n",
       "\n",
       "    .dataframe thead th {\n",
       "        text-align: right;\n",
       "    }\n",
       "</style>\n",
       "<table border=\"1\" class=\"dataframe\">\n",
       "  <thead>\n",
       "    <tr style=\"text-align: right;\">\n",
       "      <th></th>\n",
       "      <th>title</th>\n",
       "      <th>subreddit</th>\n",
       "      <th>time</th>\n",
       "      <th>comments</th>\n",
       "      <th>text</th>\n",
       "    </tr>\n",
       "  </thead>\n",
       "  <tbody>\n",
       "    <tr>\n",
       "      <th>0</th>\n",
       "      <td>Tried to do Fight Club but they wanted the win</td>\n",
       "      <td>apexlegends</td>\n",
       "      <td>1.564080e+09</td>\n",
       "      <td>215</td>\n",
       "      <td></td>\n",
       "    </tr>\n",
       "    <tr>\n",
       "      <th>1</th>\n",
       "      <td>Anybody else getting empty Apex Packs?</td>\n",
       "      <td>apexlegends</td>\n",
       "      <td>1.564100e+09</td>\n",
       "      <td>50</td>\n",
       "      <td></td>\n",
       "    </tr>\n",
       "    <tr>\n",
       "      <th>2</th>\n",
       "      <td>No one gets my gold armor!</td>\n",
       "      <td>apexlegends</td>\n",
       "      <td>1.564064e+09</td>\n",
       "      <td>220</td>\n",
       "      <td></td>\n",
       "    </tr>\n",
       "    <tr>\n",
       "      <th>3</th>\n",
       "      <td>Pro strats</td>\n",
       "      <td>apexlegends</td>\n",
       "      <td>1.564098e+09</td>\n",
       "      <td>42</td>\n",
       "      <td></td>\n",
       "    </tr>\n",
       "    <tr>\n",
       "      <th>4</th>\n",
       "      <td>“During development, we use heatmaps to look a...</td>\n",
       "      <td>apexlegends</td>\n",
       "      <td>1.564113e+09</td>\n",
       "      <td>23</td>\n",
       "      <td></td>\n",
       "    </tr>\n",
       "  </tbody>\n",
       "</table>\n",
       "</div>"
      ],
      "text/plain": [
       "                                               title    subreddit  \\\n",
       "0     Tried to do Fight Club but they wanted the win  apexlegends   \n",
       "1             Anybody else getting empty Apex Packs?  apexlegends   \n",
       "2                         No one gets my gold armor!  apexlegends   \n",
       "3                                         Pro strats  apexlegends   \n",
       "4  “During development, we use heatmaps to look a...  apexlegends   \n",
       "\n",
       "           time  comments text  \n",
       "0  1.564080e+09       215       \n",
       "1  1.564100e+09        50       \n",
       "2  1.564064e+09       220       \n",
       "3  1.564098e+09        42       \n",
       "4  1.564113e+09        23       "
      ]
     },
     "execution_count": 42,
     "metadata": {},
     "output_type": "execute_result"
    }
   ],
   "source": [
    "df_apex.head()"
   ]
  },
  {
   "cell_type": "code",
   "execution_count": 43,
   "metadata": {},
   "outputs": [],
   "source": [
    "data_war = {\n",
    "    'title': [i['data']['title'] for i in posts_war], \n",
    "    'subreddit': [i['data']['subreddit'] for i in posts_war], \n",
    "    'time': [i['data']['created_utc'] for i in posts_war], \n",
    "    'comments': [i['data']['num_comments'] for i in posts_war],\n",
    "    'text': [i['data']['selftext'] for i in posts_war]\n",
    "}\n",
    "\n",
    "df_war = pd.DataFrame(data_war, columns = data_war.keys())"
   ]
  },
  {
   "cell_type": "code",
   "execution_count": 44,
   "metadata": {},
   "outputs": [
    {
     "data": {
      "text/html": [
       "<div>\n",
       "<style scoped>\n",
       "    .dataframe tbody tr th:only-of-type {\n",
       "        vertical-align: middle;\n",
       "    }\n",
       "\n",
       "    .dataframe tbody tr th {\n",
       "        vertical-align: top;\n",
       "    }\n",
       "\n",
       "    .dataframe thead th {\n",
       "        text-align: right;\n",
       "    }\n",
       "</style>\n",
       "<table border=\"1\" class=\"dataframe\">\n",
       "  <thead>\n",
       "    <tr style=\"text-align: right;\">\n",
       "      <th></th>\n",
       "      <th>title</th>\n",
       "      <th>subreddit</th>\n",
       "      <th>time</th>\n",
       "      <th>comments</th>\n",
       "      <th>text</th>\n",
       "    </tr>\n",
       "  </thead>\n",
       "  <tbody>\n",
       "    <tr>\n",
       "      <th>0</th>\n",
       "      <td>Idea: Watch Prime time &amp;amp; Devstreams inside...</td>\n",
       "      <td>Warframe</td>\n",
       "      <td>1.564095e+09</td>\n",
       "      <td>119</td>\n",
       "      <td></td>\n",
       "    </tr>\n",
       "    <tr>\n",
       "      <th>1</th>\n",
       "      <td>Two Volts Walk into a Bar...</td>\n",
       "      <td>Warframe</td>\n",
       "      <td>1.564093e+09</td>\n",
       "      <td>62</td>\n",
       "      <td></td>\n",
       "    </tr>\n",
       "    <tr>\n",
       "      <th>2</th>\n",
       "      <td>Umbra(cat) vs Shawzin</td>\n",
       "      <td>Warframe</td>\n",
       "      <td>1.564079e+09</td>\n",
       "      <td>32</td>\n",
       "      <td></td>\n",
       "    </tr>\n",
       "    <tr>\n",
       "      <th>3</th>\n",
       "      <td>meet George Endo, my first Ayatan golem</td>\n",
       "      <td>Warframe</td>\n",
       "      <td>1.564078e+09</td>\n",
       "      <td>40</td>\n",
       "      <td></td>\n",
       "    </tr>\n",
       "    <tr>\n",
       "      <th>4</th>\n",
       "      <td>DE Please make this a Glyph, we will pay anyth...</td>\n",
       "      <td>Warframe</td>\n",
       "      <td>1.564100e+09</td>\n",
       "      <td>15</td>\n",
       "      <td></td>\n",
       "    </tr>\n",
       "  </tbody>\n",
       "</table>\n",
       "</div>"
      ],
      "text/plain": [
       "                                               title subreddit          time  \\\n",
       "0  Idea: Watch Prime time &amp; Devstreams inside...  Warframe  1.564095e+09   \n",
       "1                       Two Volts Walk into a Bar...  Warframe  1.564093e+09   \n",
       "2                              Umbra(cat) vs Shawzin  Warframe  1.564079e+09   \n",
       "3            meet George Endo, my first Ayatan golem  Warframe  1.564078e+09   \n",
       "4  DE Please make this a Glyph, we will pay anyth...  Warframe  1.564100e+09   \n",
       "\n",
       "   comments text  \n",
       "0       119       \n",
       "1        62       \n",
       "2        32       \n",
       "3        40       \n",
       "4        15       "
      ]
     },
     "execution_count": 44,
     "metadata": {},
     "output_type": "execute_result"
    }
   ],
   "source": [
    "df_war.head()"
   ]
  },
  {
   "cell_type": "code",
   "execution_count": 45,
   "metadata": {},
   "outputs": [],
   "source": [
    "df = pd.concat([df_apex, df_war])"
   ]
  },
  {
   "cell_type": "code",
   "execution_count": 46,
   "metadata": {},
   "outputs": [
    {
     "data": {
      "text/html": [
       "<div>\n",
       "<style scoped>\n",
       "    .dataframe tbody tr th:only-of-type {\n",
       "        vertical-align: middle;\n",
       "    }\n",
       "\n",
       "    .dataframe tbody tr th {\n",
       "        vertical-align: top;\n",
       "    }\n",
       "\n",
       "    .dataframe thead th {\n",
       "        text-align: right;\n",
       "    }\n",
       "</style>\n",
       "<table border=\"1\" class=\"dataframe\">\n",
       "  <thead>\n",
       "    <tr style=\"text-align: right;\">\n",
       "      <th></th>\n",
       "      <th>title</th>\n",
       "      <th>subreddit</th>\n",
       "      <th>time</th>\n",
       "      <th>comments</th>\n",
       "      <th>text</th>\n",
       "    </tr>\n",
       "  </thead>\n",
       "  <tbody>\n",
       "    <tr>\n",
       "      <th>0</th>\n",
       "      <td>Tried to do Fight Club but they wanted the win</td>\n",
       "      <td>apexlegends</td>\n",
       "      <td>1.564080e+09</td>\n",
       "      <td>215</td>\n",
       "      <td></td>\n",
       "    </tr>\n",
       "    <tr>\n",
       "      <th>1</th>\n",
       "      <td>Anybody else getting empty Apex Packs?</td>\n",
       "      <td>apexlegends</td>\n",
       "      <td>1.564100e+09</td>\n",
       "      <td>50</td>\n",
       "      <td></td>\n",
       "    </tr>\n",
       "    <tr>\n",
       "      <th>2</th>\n",
       "      <td>No one gets my gold armor!</td>\n",
       "      <td>apexlegends</td>\n",
       "      <td>1.564064e+09</td>\n",
       "      <td>220</td>\n",
       "      <td></td>\n",
       "    </tr>\n",
       "    <tr>\n",
       "      <th>3</th>\n",
       "      <td>Pro strats</td>\n",
       "      <td>apexlegends</td>\n",
       "      <td>1.564098e+09</td>\n",
       "      <td>42</td>\n",
       "      <td></td>\n",
       "    </tr>\n",
       "    <tr>\n",
       "      <th>4</th>\n",
       "      <td>“During development, we use heatmaps to look a...</td>\n",
       "      <td>apexlegends</td>\n",
       "      <td>1.564113e+09</td>\n",
       "      <td>23</td>\n",
       "      <td></td>\n",
       "    </tr>\n",
       "  </tbody>\n",
       "</table>\n",
       "</div>"
      ],
      "text/plain": [
       "                                               title    subreddit  \\\n",
       "0     Tried to do Fight Club but they wanted the win  apexlegends   \n",
       "1             Anybody else getting empty Apex Packs?  apexlegends   \n",
       "2                         No one gets my gold armor!  apexlegends   \n",
       "3                                         Pro strats  apexlegends   \n",
       "4  “During development, we use heatmaps to look a...  apexlegends   \n",
       "\n",
       "           time  comments text  \n",
       "0  1.564080e+09       215       \n",
       "1  1.564100e+09        50       \n",
       "2  1.564064e+09       220       \n",
       "3  1.564098e+09        42       \n",
       "4  1.564113e+09        23       "
      ]
     },
     "execution_count": 46,
     "metadata": {},
     "output_type": "execute_result"
    }
   ],
   "source": [
    "df.head()"
   ]
  },
  {
   "cell_type": "code",
   "execution_count": 47,
   "metadata": {},
   "outputs": [],
   "source": [
    "df['apexlegends'] = pd.get_dummies(df['subreddit']).drop(columns=['Warframe'])"
   ]
  },
  {
   "cell_type": "code",
   "execution_count": 48,
   "metadata": {},
   "outputs": [],
   "source": [
    "df = df.drop(columns='subreddit')"
   ]
  },
  {
   "cell_type": "code",
   "execution_count": 49,
   "metadata": {},
   "outputs": [
    {
     "data": {
      "text/html": [
       "<div>\n",
       "<style scoped>\n",
       "    .dataframe tbody tr th:only-of-type {\n",
       "        vertical-align: middle;\n",
       "    }\n",
       "\n",
       "    .dataframe tbody tr th {\n",
       "        vertical-align: top;\n",
       "    }\n",
       "\n",
       "    .dataframe thead th {\n",
       "        text-align: right;\n",
       "    }\n",
       "</style>\n",
       "<table border=\"1\" class=\"dataframe\">\n",
       "  <thead>\n",
       "    <tr style=\"text-align: right;\">\n",
       "      <th></th>\n",
       "      <th>title</th>\n",
       "      <th>time</th>\n",
       "      <th>comments</th>\n",
       "      <th>text</th>\n",
       "      <th>apexlegends</th>\n",
       "    </tr>\n",
       "  </thead>\n",
       "  <tbody>\n",
       "    <tr>\n",
       "      <th>0</th>\n",
       "      <td>Tried to do Fight Club but they wanted the win</td>\n",
       "      <td>1.564080e+09</td>\n",
       "      <td>215</td>\n",
       "      <td></td>\n",
       "      <td>1</td>\n",
       "    </tr>\n",
       "    <tr>\n",
       "      <th>1</th>\n",
       "      <td>Anybody else getting empty Apex Packs?</td>\n",
       "      <td>1.564100e+09</td>\n",
       "      <td>50</td>\n",
       "      <td></td>\n",
       "      <td>1</td>\n",
       "    </tr>\n",
       "    <tr>\n",
       "      <th>2</th>\n",
       "      <td>No one gets my gold armor!</td>\n",
       "      <td>1.564064e+09</td>\n",
       "      <td>220</td>\n",
       "      <td></td>\n",
       "      <td>1</td>\n",
       "    </tr>\n",
       "    <tr>\n",
       "      <th>3</th>\n",
       "      <td>Pro strats</td>\n",
       "      <td>1.564098e+09</td>\n",
       "      <td>42</td>\n",
       "      <td></td>\n",
       "      <td>1</td>\n",
       "    </tr>\n",
       "    <tr>\n",
       "      <th>4</th>\n",
       "      <td>“During development, we use heatmaps to look a...</td>\n",
       "      <td>1.564113e+09</td>\n",
       "      <td>23</td>\n",
       "      <td></td>\n",
       "      <td>1</td>\n",
       "    </tr>\n",
       "  </tbody>\n",
       "</table>\n",
       "</div>"
      ],
      "text/plain": [
       "                                               title          time  comments  \\\n",
       "0     Tried to do Fight Club but they wanted the win  1.564080e+09       215   \n",
       "1             Anybody else getting empty Apex Packs?  1.564100e+09        50   \n",
       "2                         No one gets my gold armor!  1.564064e+09       220   \n",
       "3                                         Pro strats  1.564098e+09        42   \n",
       "4  “During development, we use heatmaps to look a...  1.564113e+09        23   \n",
       "\n",
       "  text  apexlegends  \n",
       "0                 1  \n",
       "1                 1  \n",
       "2                 1  \n",
       "3                 1  \n",
       "4                 1  "
      ]
     },
     "execution_count": 49,
     "metadata": {},
     "output_type": "execute_result"
    }
   ],
   "source": [
    "df.head()"
   ]
  },
  {
   "cell_type": "code",
   "execution_count": 50,
   "metadata": {},
   "outputs": [],
   "source": [
    "df.to_csv('./datasets/data.csv')"
   ]
  },
  {
   "cell_type": "markdown",
   "metadata": {},
   "source": [
    "# **Run Notebook from here**"
   ]
  },
  {
   "cell_type": "code",
   "execution_count": 52,
   "metadata": {},
   "outputs": [],
   "source": [
    "#find X and y\n",
    "X = df['title'] + df['text']\n",
    "y = df['apexlegends']"
   ]
  },
  {
   "cell_type": "markdown",
   "metadata": {},
   "source": [
    "## 3) NLP Technique"
   ]
  },
  {
   "cell_type": "code",
   "execution_count": 53,
   "metadata": {},
   "outputs": [],
   "source": [
    "#split data\n",
    "from sklearn.model_selection import train_test_split\n",
    "\n",
    "X_train, X_test, y_train, y_test = train_test_split(X,\n",
    "                                                    y,\n",
    "                                                    test_size=0.25,\n",
    "                                                    random_state=42,\n",
    "                                                    stratify=y)"
   ]
  },
  {
   "cell_type": "markdown",
   "metadata": {},
   "source": [
    "The following will be done using CountVectorizer together with the models used:\n",
    "1) Multinomial NB\n",
    "2) Bernoulli NB\n",
    "3) Gaussian NB\n",
    "4) Logistic Regression + Grid Search\n",
    "5) KNN + Grid Search\n",
    "\n",
    "Each classification method will be evaluated based on the following:\n",
    "1) Confusion matrix"
   ]
  },
  {
   "cell_type": "code",
   "execution_count": 54,
   "metadata": {},
   "outputs": [],
   "source": [
    "from sklearn.feature_extraction.text import CountVectorizer\n",
    "cvec = CountVectorizer(stop_words='english', token_pattern=r'(?u)\\b[a-zA-Z]{2,}\\b')\n",
    "X_train_cvec = cvec.fit_transform(X_train)\n",
    "X_test_cvec = cvec.transform(X_test)"
   ]
  },
  {
   "cell_type": "code",
   "execution_count": 55,
   "metadata": {},
   "outputs": [
    {
     "data": {
      "text/plain": [
       "just        503\n",
       "game        402\n",
       "like        375\n",
       "warframe    267\n",
       "amp         217\n",
       "know        211\n",
       "don         209\n",
       "time        198\n",
       "https       193\n",
       "ve          183\n",
       "apex        177\n",
       "play        177\n",
       "think       166\n",
       "new         164\n",
       "got         160\n",
       "make        159\n",
       "damage      151\n",
       "use         145\n",
       "really      144\n",
       "way         144\n",
       "dtype: int64"
      ]
     },
     "execution_count": 55,
     "metadata": {},
     "output_type": "execute_result"
    }
   ],
   "source": [
    "#Check out the most common words\n",
    "X_df = pd.DataFrame(cvec.transform(X_train).todense(),\n",
    "                       columns=cvec.get_feature_names())\n",
    "word_counts = pd.DataFrame(X_df).sum(axis=0)\n",
    "word_counts.sort_values(ascending = False).head(20)"
   ]
  },
  {
   "cell_type": "code",
   "execution_count": 56,
   "metadata": {},
   "outputs": [
    {
     "name": "stdout",
     "output_type": "stream",
     "text": [
      "model score on train data: 0.9892183288409704\n",
      "model score on test data: 0.8464646464646465\n",
      "Number of features: 7527\n"
     ]
    }
   ],
   "source": [
    " #can try other kinds of vectorizer like tf-idf\n",
    "from sklearn.pipeline import make_pipeline\n",
    "from sklearn.metrics import accuracy_score\n",
    "from sklearn.linear_model import LogisticRegression\n",
    "\n",
    "model = make_pipeline(CountVectorizer(stop_words='english',\n",
    "                                      token_pattern=r'(?u)\\b[a-zA-Z]{2,}\\b'),\n",
    "                      LogisticRegression(solver='lbfgs'),\n",
    "                      )\n",
    "\n",
    "model_count = model.fit(X_train, y_train)\n",
    "y_pred = model_count.predict(X_test)\n",
    "print('model score on train data: {}'.format(model_count.score(X_train, y_train)))\n",
    "print('model score on test data: {}'.format(accuracy_score(y_test, y_pred)))\n",
    "print(\"Number of features:\", len(model.steps[0][1].get_feature_names()))"
   ]
  },
  {
   "cell_type": "code",
   "execution_count": 57,
   "metadata": {},
   "outputs": [],
   "source": [
    "# GridSearch was attempted and excluded because there was no change.\n",
    "# Import the confusion matrix function.\n",
    "from sklearn.metrics import confusion_matrix"
   ]
  },
  {
   "cell_type": "code",
   "execution_count": 58,
   "metadata": {},
   "outputs": [
    {
     "data": {
      "text/plain": [
       "array([[190,  55],\n",
       "       [ 21, 229]])"
      ]
     },
     "execution_count": 58,
     "metadata": {},
     "output_type": "execute_result"
    }
   ],
   "source": [
    "cm = confusion_matrix(y_test, y_pred)\n",
    "cm"
   ]
  },
  {
   "cell_type": "code",
   "execution_count": 59,
   "metadata": {},
   "outputs": [],
   "source": [
    "tn, fp, fn, tp = confusion_matrix(y_test, y_pred).ravel()"
   ]
  },
  {
   "cell_type": "code",
   "execution_count": 60,
   "metadata": {},
   "outputs": [
    {
     "name": "stdout",
     "output_type": "stream",
     "text": [
      "True Negatives: 190\n",
      "False Positives: 55\n",
      "False Negatives: 21\n",
      "True Positives: 229\n"
     ]
    }
   ],
   "source": [
    "print(\"True Negatives: %s\" % tn)\n",
    "print(\"False Positives: %s\" % fp)\n",
    "print(\"False Negatives: %s\" % fn)\n",
    "print(\"True Positives: %s\" % tp)"
   ]
  },
  {
   "cell_type": "code",
   "execution_count": 61,
   "metadata": {},
   "outputs": [
    {
     "name": "stdout",
     "output_type": "stream",
     "text": [
      "model score on train data: 0.8173854447439353\n",
      "model score on test data: 0.604040404040404\n",
      "Number of features: 7527\n"
     ]
    }
   ],
   "source": [
    "from sklearn.neighbors import KNeighborsClassifier\n",
    "model = make_pipeline(CountVectorizer(stop_words='english',\n",
    "                                      token_pattern=r'(?u)\\b[a-zA-Z]{2,}\\b'),\n",
    "                      KNeighborsClassifier(),\n",
    "                      )\n",
    "\n",
    "model_count = model.fit(X_train, y_train)\n",
    "y_pred = model_count.predict(X_test)\n",
    "print('model score on train data: {}'.format(model_count.score(X_train, y_train)))\n",
    "print('model score on test data: {}'.format(accuracy_score(y_test, y_pred)))\n",
    "print(\"Number of features:\", len(model.steps[0][1].get_feature_names()))"
   ]
  },
  {
   "cell_type": "code",
   "execution_count": 62,
   "metadata": {},
   "outputs": [
    {
     "name": "stdout",
     "output_type": "stream",
     "text": [
      "Fitting 9 folds for each of 10 candidates, totalling 90 fits\n"
     ]
    },
    {
     "name": "stderr",
     "output_type": "stream",
     "text": [
      "[Parallel(n_jobs=1)]: Using backend SequentialBackend with 1 concurrent workers.\n",
      "[Parallel(n_jobs=1)]: Done  90 out of  90 | elapsed:   34.8s finished\n"
     ]
    },
    {
     "data": {
      "text/plain": [
       "GridSearchCV(cv=9, error_score='raise-deprecating',\n",
       "       estimator=KNeighborsClassifier(algorithm='auto', leaf_size=30, metric='minkowski',\n",
       "           metric_params=None, n_jobs=None, n_neighbors=5, p=2,\n",
       "           weights='uniform'),\n",
       "       fit_params=None, iid='warn', n_jobs=None,\n",
       "       param_grid={'n_neighbors': range(1, 10, 2), 'metric': ['euclidean', 'manhattan']},\n",
       "       pre_dispatch='2*n_jobs', refit=True, return_train_score=False,\n",
       "       scoring=None, verbose=1)"
      ]
     },
     "execution_count": 62,
     "metadata": {},
     "output_type": "execute_result"
    }
   ],
   "source": [
    "from sklearn.model_selection import GridSearchCV\n",
    "knn_params = {\n",
    "    'n_neighbors': range(1,10, 2),\n",
    "    'metric' : ['euclidean', 'manhattan']\n",
    "}\n",
    "\n",
    "knn_gridsearch = GridSearchCV(\n",
    "    KNeighborsClassifier(),\n",
    "    knn_params,\n",
    "    cv=9,\n",
    "    verbose=1,\n",
    "    return_train_score=False\n",
    ")\n",
    "\n",
    "knn_gridsearch.fit(X_train_cvec, y_train)"
   ]
  },
  {
   "cell_type": "code",
   "execution_count": 63,
   "metadata": {},
   "outputs": [
    {
     "data": {
      "text/plain": [
       "0.6401617250673854"
      ]
     },
     "execution_count": 63,
     "metadata": {},
     "output_type": "execute_result"
    }
   ],
   "source": [
    "knn_gridsearch.best_score_"
   ]
  },
  {
   "cell_type": "code",
   "execution_count": 64,
   "metadata": {},
   "outputs": [
    {
     "data": {
      "text/plain": [
       "{'metric': 'euclidean', 'n_neighbors': 9}"
      ]
     },
     "execution_count": 64,
     "metadata": {},
     "output_type": "execute_result"
    }
   ],
   "source": [
    "knn_gridsearch.best_params_"
   ]
  },
  {
   "cell_type": "code",
   "execution_count": 65,
   "metadata": {},
   "outputs": [
    {
     "data": {
      "text/plain": [
       "KNeighborsClassifier(algorithm='auto', leaf_size=30, metric='euclidean',\n",
       "           metric_params=None, n_jobs=None, n_neighbors=9, p=2,\n",
       "           weights='uniform')"
      ]
     },
     "execution_count": 65,
     "metadata": {},
     "output_type": "execute_result"
    }
   ],
   "source": [
    "knn_gridsearch.best_estimator_"
   ]
  },
  {
   "cell_type": "code",
   "execution_count": 66,
   "metadata": {},
   "outputs": [],
   "source": [
    "#need to fit do a cvec first before fitting into knn, as shown above it can be done using pipeline alone\n",
    "#however we want to use the best parameter model from our girdsearch and git manually hence the need.\n",
    "knn = KNeighborsClassifier(algorithm='auto', leaf_size=30, metric='euclidean',\n",
    "           metric_params=None, n_jobs=None, n_neighbors=3, p=2,\n",
    "           weights='uniform')\n",
    "model = knn.fit(X_train_cvec, y_train)"
   ]
  },
  {
   "cell_type": "code",
   "execution_count": 67,
   "metadata": {},
   "outputs": [
    {
     "data": {
      "text/plain": [
       "0.8915094339622641"
      ]
     },
     "execution_count": 67,
     "metadata": {},
     "output_type": "execute_result"
    }
   ],
   "source": [
    "model.score(X_train_cvec, y_train)"
   ]
  },
  {
   "cell_type": "code",
   "execution_count": 68,
   "metadata": {},
   "outputs": [
    {
     "data": {
      "text/plain": [
       "0.6060606060606061"
      ]
     },
     "execution_count": 68,
     "metadata": {},
     "output_type": "execute_result"
    }
   ],
   "source": [
    "model.score(X_test_cvec, y_test)"
   ]
  },
  {
   "cell_type": "code",
   "execution_count": 69,
   "metadata": {},
   "outputs": [],
   "source": [
    "y_pred = model.predict(X_test_cvec)"
   ]
  },
  {
   "cell_type": "code",
   "execution_count": 70,
   "metadata": {},
   "outputs": [
    {
     "data": {
      "text/plain": [
       "array([[ 70, 175],\n",
       "       [ 20, 230]])"
      ]
     },
     "execution_count": 70,
     "metadata": {},
     "output_type": "execute_result"
    }
   ],
   "source": [
    "cm = confusion_matrix(y_test, y_pred)\n",
    "cm"
   ]
  },
  {
   "cell_type": "code",
   "execution_count": 71,
   "metadata": {},
   "outputs": [],
   "source": [
    "tn, fp, fn, tp = confusion_matrix(y_test, y_pred).ravel()"
   ]
  },
  {
   "cell_type": "code",
   "execution_count": 72,
   "metadata": {},
   "outputs": [
    {
     "name": "stdout",
     "output_type": "stream",
     "text": [
      "True Negatives: 70\n",
      "False Positives: 175\n",
      "False Negatives: 20\n",
      "True Positives: 230\n"
     ]
    }
   ],
   "source": [
    "print(\"True Negatives: %s\" % tn)\n",
    "print(\"False Positives: %s\" % fp)\n",
    "print(\"False Negatives: %s\" % fn)\n",
    "print(\"True Positives: %s\" % tp)"
   ]
  },
  {
   "cell_type": "code",
   "execution_count": 73,
   "metadata": {},
   "outputs": [],
   "source": [
    "# Import our model! for Multinomial\n",
    "from sklearn.naive_bayes import MultinomialNB"
   ]
  },
  {
   "cell_type": "code",
   "execution_count": 74,
   "metadata": {},
   "outputs": [
    {
     "name": "stdout",
     "output_type": "stream",
     "text": [
      "model score on train data: 0.9582210242587601\n",
      "model score on test data: 0.9090909090909091\n",
      "Number of features: 7527\n"
     ]
    }
   ],
   "source": [
    "model = make_pipeline(CountVectorizer(stop_words='english',\n",
    "                                      token_pattern=r'(?u)\\b[a-zA-Z]{2,}\\b'),\n",
    "                      MultinomialNB(),\n",
    "                      )\n",
    "\n",
    "model_count = model.fit(X_train, y_train)\n",
    "y_pred = model_count.predict(X_test)\n",
    "#note that even though X_train is not CountVectorizer fit_transformed, using model_count takes into account\n",
    "#pipeline characteristics, allowing raw X_train to be used here.\n",
    "print('model score on train data: {}'.format(model_count.score(X_train, y_train)))\n",
    "print('model score on test data: {}'.format(accuracy_score(y_test, y_pred)))\n",
    "print(\"Number of features:\", len(model.steps[0][1].get_feature_names()))"
   ]
  },
  {
   "cell_type": "code",
   "execution_count": 75,
   "metadata": {},
   "outputs": [
    {
     "data": {
      "text/plain": [
       "array([[221,  24],\n",
       "       [ 21, 229]])"
      ]
     },
     "execution_count": 75,
     "metadata": {},
     "output_type": "execute_result"
    }
   ],
   "source": [
    "# Generate a confusion matrix.\n",
    "\n",
    "cm = confusion_matrix(y_test, y_pred)\n",
    "cm"
   ]
  },
  {
   "cell_type": "code",
   "execution_count": 76,
   "metadata": {},
   "outputs": [],
   "source": [
    "tn, fp, fn, tp = confusion_matrix(y_test, y_pred).ravel()"
   ]
  },
  {
   "cell_type": "code",
   "execution_count": 77,
   "metadata": {},
   "outputs": [
    {
     "name": "stdout",
     "output_type": "stream",
     "text": [
      "True Negatives: 221\n",
      "False Positives: 24\n",
      "False Negatives: 21\n",
      "True Positives: 229\n"
     ]
    }
   ],
   "source": [
    "print(\"True Negatives: %s\" % tn)\n",
    "print(\"False Positives: %s\" % fp)\n",
    "print(\"False Negatives: %s\" % fn)\n",
    "print(\"True Positives: %s\" % tp)"
   ]
  },
  {
   "cell_type": "markdown",
   "metadata": {},
   "source": [
    "Use of BernoulliNB model to classify (elaborate a bit about how it works), expected to be better or worse?"
   ]
  },
  {
   "cell_type": "code",
   "execution_count": 78,
   "metadata": {},
   "outputs": [
    {
     "name": "stdout",
     "output_type": "stream",
     "text": [
      "model score on train data: 0.7884097035040432\n",
      "model score on test data: 0.7333333333333333\n",
      "Number of features: 7527\n"
     ]
    }
   ],
   "source": [
    "#Import Bernoulli and edit pipeline from above\n",
    "from sklearn.naive_bayes import BernoulliNB\n",
    "model = make_pipeline(CountVectorizer(stop_words='english',\n",
    "                                      token_pattern=r'(?u)\\b[a-zA-Z]{2,}\\b'),\n",
    "                      BernoulliNB(),\n",
    "                      )\n",
    "\n",
    "\n",
    "model_count = model.fit(X_train, y_train)\n",
    "y_pred = model_count.predict(X_test)\n",
    "print('model score on train data: {}'.format(model_count.score(X_train, y_train)))\n",
    "print('model score on test data: {}'.format(accuracy_score(y_test, y_pred)))\n",
    "print(\"Number of features:\", len(model.steps[0][1].get_feature_names()))"
   ]
  },
  {
   "cell_type": "code",
   "execution_count": 79,
   "metadata": {},
   "outputs": [
    {
     "data": {
      "text/plain": [
       "array([[116, 129],\n",
       "       [  3, 247]])"
      ]
     },
     "execution_count": 79,
     "metadata": {},
     "output_type": "execute_result"
    }
   ],
   "source": [
    "# Generate a confusion matrix.\n",
    "cm = confusion_matrix(y_test, y_pred)\n",
    "cm"
   ]
  },
  {
   "cell_type": "code",
   "execution_count": 80,
   "metadata": {},
   "outputs": [],
   "source": [
    "tn, fp, fn, tp = confusion_matrix(y_test, y_pred).ravel()"
   ]
  },
  {
   "cell_type": "code",
   "execution_count": 81,
   "metadata": {},
   "outputs": [
    {
     "name": "stdout",
     "output_type": "stream",
     "text": [
      "True Negatives: 116\n",
      "False Positives: 129\n",
      "False Negatives: 3\n",
      "True Positives: 247\n"
     ]
    }
   ],
   "source": [
    "print(\"True Negatives: %s\" % tn)\n",
    "print(\"False Positives: %s\" % fp)\n",
    "print(\"False Negatives: %s\" % fn)\n",
    "print(\"True Positives: %s\" % tp)"
   ]
  },
  {
   "cell_type": "markdown",
   "metadata": {},
   "source": [
    "Add in the ROC AUC as another metric"
   ]
  },
  {
   "cell_type": "markdown",
   "metadata": {},
   "source": [
    "Use of GaussianNB"
   ]
  },
  {
   "cell_type": "markdown",
   "metadata": {},
   "source": [
    "We will need to reinstantiate the CountVectorizer outside the pipeline in order to obtain an array type for it to be able to fit under a Gaussian Naive Bayes' model."
   ]
  },
  {
   "cell_type": "code",
   "execution_count": 82,
   "metadata": {},
   "outputs": [
    {
     "name": "stdout",
     "output_type": "stream",
     "text": [
      "model score on train data: 0.9683288409703504\n",
      "model score on test data: 0.8707070707070707\n",
      "Number of features: 7527\n"
     ]
    }
   ],
   "source": [
    "#cvec already defined above\n",
    "from sklearn.naive_bayes import GaussianNB\n",
    "gnb = GaussianNB()\n",
    "X_train_cvec = X_train_cvec.toarray()\n",
    "model_gnb = gnb.fit(X_train_cvec, y_train)\n",
    "X_test_cvec = X_test_cvec.toarray()\n",
    "predictions_gnb = model_gnb.predict(X_test_cvec)\n",
    "print('model score on train data: {}'.format(model_gnb.score(X_train_cvec, y_train)))\n",
    "print('model score on test data: {}'.format(accuracy_score(y_test, predictions_gnb)))\n",
    "print(\"Number of features:\", len(model.steps[0][1].get_feature_names()))"
   ]
  },
  {
   "cell_type": "code",
   "execution_count": 83,
   "metadata": {},
   "outputs": [
    {
     "data": {
      "text/plain": [
       "array([[199,  46],\n",
       "       [ 18, 232]])"
      ]
     },
     "execution_count": 83,
     "metadata": {},
     "output_type": "execute_result"
    }
   ],
   "source": [
    "# Generate a confusion matrix.\n",
    "cm = confusion_matrix(y_test, predictions_gnb)\n",
    "cm"
   ]
  },
  {
   "cell_type": "code",
   "execution_count": 84,
   "metadata": {},
   "outputs": [],
   "source": [
    "tn, fp, fn, tp = confusion_matrix(y_test, predictions_gnb).ravel()"
   ]
  },
  {
   "cell_type": "code",
   "execution_count": 85,
   "metadata": {},
   "outputs": [
    {
     "name": "stdout",
     "output_type": "stream",
     "text": [
      "True Negatives: 199\n",
      "False Positives: 46\n",
      "False Negatives: 18\n",
      "True Positives: 232\n"
     ]
    }
   ],
   "source": [
    "print(\"True Negatives: %s\" % tn)\n",
    "print(\"False Positives: %s\" % fp)\n",
    "print(\"False Negatives: %s\" % fn)\n",
    "print(\"True Positives: %s\" % tp)"
   ]
  },
  {
   "cell_type": "markdown",
   "metadata": {},
   "source": [
    "Repeat the above steps using Tfid-ifd together with the following models:\n",
    "1) Multinomial\n",
    "2) Bernoulli\n",
    "3) Gaussian\n",
    "\n",
    "Then evaluate similarly for each model with the following classification metrics:\n",
    "1) Confusion matrix\n",
    "2) ROC AUC"
   ]
  },
  {
   "cell_type": "code",
   "execution_count": 86,
   "metadata": {},
   "outputs": [],
   "source": [
    "from sklearn.feature_extraction.text import TfidfVectorizer\n",
    "tvec = TfidfVectorizer(stop_words='english', \n",
    "                       sublinear_tf=True,\n",
    "                       max_df=0.7, \n",
    "                       token_pattern=r'(?u)\\b[a-zA-Z]{2,}\\b')\n",
    "X_train_tvec = tvec.fit_transform(X_train)\n",
    "X_test_tvec = tvec.transform(X_test)"
   ]
  },
  {
   "cell_type": "code",
   "execution_count": 87,
   "metadata": {},
   "outputs": [
    {
     "name": "stdout",
     "output_type": "stream",
     "text": [
      "model score on train data: 0.9824797843665768\n",
      "model score on test data: 0.8727272727272727\n",
      "Number of features: 7527\n"
     ]
    },
    {
     "name": "stderr",
     "output_type": "stream",
     "text": [
      "/Users/evan/anaconda3/lib/python3.7/site-packages/sklearn/linear_model/logistic.py:433: FutureWarning: Default solver will be changed to 'lbfgs' in 0.22. Specify a solver to silence this warning.\n",
      "  FutureWarning)\n"
     ]
    }
   ],
   "source": [
    "#import libraries required to use TfidVectorizer\n",
    "model = make_pipeline(TfidfVectorizer(stop_words='english',\n",
    "                        sublinear_tf=True,\n",
    "                        max_df=0.5,\n",
    "                        token_pattern=r'(?u)\\b[a-zA-Z]{2,}\\b'),\n",
    "                      LogisticRegression(),\n",
    "                      )\n",
    "\n",
    "model_tf = model.fit(X_train, y_train)\n",
    "y_pred = model_tf.predict(X_test)\n",
    "print('model score on train data: {}'.format(model_tf.score(X_train, y_train)))\n",
    "print('model score on test data: {}'.format(accuracy_score(y_test, y_pred)))\n",
    "print(\"Number of features:\", len(model.steps[0][1].get_feature_names()))"
   ]
  },
  {
   "cell_type": "code",
   "execution_count": 88,
   "metadata": {},
   "outputs": [
    {
     "data": {
      "text/plain": [
       "{'tfidfvectorizer': TfidfVectorizer(analyzer='word', binary=False, decode_error='strict',\n",
       "         dtype=<class 'numpy.float64'>, encoding='utf-8', input='content',\n",
       "         lowercase=True, max_df=0.5, max_features=None, min_df=1,\n",
       "         ngram_range=(1, 1), norm='l2', preprocessor=None, smooth_idf=True,\n",
       "         stop_words='english', strip_accents=None, sublinear_tf=True,\n",
       "         token_pattern='(?u)\\\\b[a-zA-Z]{2,}\\\\b', tokenizer=None,\n",
       "         use_idf=True, vocabulary=None),\n",
       " 'logisticregression': LogisticRegression(C=1.0, class_weight=None, dual=False, fit_intercept=True,\n",
       "           intercept_scaling=1, max_iter=100, multi_class='warn',\n",
       "           n_jobs=None, penalty='l2', random_state=None, solver='warn',\n",
       "           tol=0.0001, verbose=0, warm_start=False)}"
      ]
     },
     "execution_count": 88,
     "metadata": {},
     "output_type": "execute_result"
    }
   ],
   "source": [
    "model_tf.named_steps"
   ]
  },
  {
   "cell_type": "code",
   "execution_count": 89,
   "metadata": {},
   "outputs": [],
   "source": [
    "df_log = pd.DataFrame(model_tf.named_steps.logisticregression.coef_)"
   ]
  },
  {
   "cell_type": "code",
   "execution_count": 90,
   "metadata": {},
   "outputs": [],
   "source": [
    "df_log.columns = model_tf.named_steps.tfidfvectorizer.get_feature_names()"
   ]
  },
  {
   "cell_type": "code",
   "execution_count": 91,
   "metadata": {},
   "outputs": [
    {
     "data": {
      "text/html": [
       "<div>\n",
       "<style scoped>\n",
       "    .dataframe tbody tr th:only-of-type {\n",
       "        vertical-align: middle;\n",
       "    }\n",
       "\n",
       "    .dataframe tbody tr th {\n",
       "        vertical-align: top;\n",
       "    }\n",
       "\n",
       "    .dataframe thead th {\n",
       "        text-align: right;\n",
       "    }\n",
       "</style>\n",
       "<table border=\"1\" class=\"dataframe\">\n",
       "  <thead>\n",
       "    <tr style=\"text-align: right;\">\n",
       "      <th></th>\n",
       "      <th>aaaand</th>\n",
       "      <th>abandoned</th>\n",
       "      <th>abandoning</th>\n",
       "      <th>abc</th>\n",
       "      <th>abilities</th>\n",
       "      <th>abilitiesi</th>\n",
       "      <th>ability</th>\n",
       "      <th>able</th>\n",
       "      <th>abnormally</th>\n",
       "      <th>aboard</th>\n",
       "      <th>...</th>\n",
       "      <th>zipline</th>\n",
       "      <th>ziplines</th>\n",
       "      <th>zipped</th>\n",
       "      <th>zipping</th>\n",
       "      <th>zone</th>\n",
       "      <th>zoned</th>\n",
       "      <th>zones</th>\n",
       "      <th>zoom</th>\n",
       "      <th>zopney</th>\n",
       "      <th>zotac</th>\n",
       "    </tr>\n",
       "  </thead>\n",
       "  <tbody>\n",
       "    <tr>\n",
       "      <th>0</th>\n",
       "      <td>-0.137653</td>\n",
       "      <td>-0.018376</td>\n",
       "      <td>-0.037548</td>\n",
       "      <td>0.040318</td>\n",
       "      <td>-0.913455</td>\n",
       "      <td>-0.058753</td>\n",
       "      <td>-0.492311</td>\n",
       "      <td>-0.223484</td>\n",
       "      <td>0.143165</td>\n",
       "      <td>-0.142141</td>\n",
       "      <td>...</td>\n",
       "      <td>0.505523</td>\n",
       "      <td>0.163159</td>\n",
       "      <td>0.054529</td>\n",
       "      <td>-0.009177</td>\n",
       "      <td>0.080989</td>\n",
       "      <td>0.092325</td>\n",
       "      <td>-0.019723</td>\n",
       "      <td>-0.068758</td>\n",
       "      <td>-0.011881</td>\n",
       "      <td>0.041804</td>\n",
       "    </tr>\n",
       "  </tbody>\n",
       "</table>\n",
       "<p>1 rows × 7527 columns</p>\n",
       "</div>"
      ],
      "text/plain": [
       "     aaaand  abandoned  abandoning       abc  abilities  abilitiesi   ability  \\\n",
       "0 -0.137653  -0.018376   -0.037548  0.040318  -0.913455   -0.058753 -0.492311   \n",
       "\n",
       "       able  abnormally    aboard  ...   zipline  ziplines    zipped  \\\n",
       "0 -0.223484    0.143165 -0.142141  ...  0.505523  0.163159  0.054529   \n",
       "\n",
       "    zipping      zone     zoned     zones      zoom    zopney     zotac  \n",
       "0 -0.009177  0.080989  0.092325 -0.019723 -0.068758 -0.011881  0.041804  \n",
       "\n",
       "[1 rows x 7527 columns]"
      ]
     },
     "execution_count": 91,
     "metadata": {},
     "output_type": "execute_result"
    }
   ],
   "source": [
    "df_log.head()"
   ]
  },
  {
   "cell_type": "code",
   "execution_count": 92,
   "metadata": {},
   "outputs": [],
   "source": [
    "df_log = df_log.reset_index() #Make your index into a column\n",
    "df_log = pd.melt(df_log, id_vars = ['index']) #Reshape data"
   ]
  },
  {
   "cell_type": "code",
   "execution_count": 93,
   "metadata": {},
   "outputs": [],
   "source": [
    "df_log = df_log.drop(columns='index').sort_values(by = 'value') #Remove duplicates, sort"
   ]
  },
  {
   "cell_type": "code",
   "execution_count": 94,
   "metadata": {},
   "outputs": [
    {
     "data": {
      "text/html": [
       "<div>\n",
       "<style scoped>\n",
       "    .dataframe tbody tr th:only-of-type {\n",
       "        vertical-align: middle;\n",
       "    }\n",
       "\n",
       "    .dataframe tbody tr th {\n",
       "        vertical-align: top;\n",
       "    }\n",
       "\n",
       "    .dataframe thead th {\n",
       "        text-align: right;\n",
       "    }\n",
       "</style>\n",
       "<table border=\"1\" class=\"dataframe\">\n",
       "  <thead>\n",
       "    <tr style=\"text-align: right;\">\n",
       "      <th></th>\n",
       "      <th>variable</th>\n",
       "      <th>value</th>\n",
       "    </tr>\n",
       "  </thead>\n",
       "  <tbody>\n",
       "    <tr>\n",
       "      <th>7276</th>\n",
       "      <td>warframe</td>\n",
       "      <td>-3.741892</td>\n",
       "    </tr>\n",
       "    <tr>\n",
       "      <th>4972</th>\n",
       "      <td>prime</td>\n",
       "      <td>-2.640685</td>\n",
       "    </tr>\n",
       "    <tr>\n",
       "      <th>844</th>\n",
       "      <td>build</td>\n",
       "      <td>-1.589209</td>\n",
       "    </tr>\n",
       "    <tr>\n",
       "      <th>4498</th>\n",
       "      <td>operator</td>\n",
       "      <td>-1.551822</td>\n",
       "    </tr>\n",
       "    <tr>\n",
       "      <th>2614</th>\n",
       "      <td>frame</td>\n",
       "      <td>-1.376048</td>\n",
       "    </tr>\n",
       "    <tr>\n",
       "      <th>4129</th>\n",
       "      <td>mission</td>\n",
       "      <td>-1.353938</td>\n",
       "    </tr>\n",
       "    <tr>\n",
       "      <th>6659</th>\n",
       "      <td>tenno</td>\n",
       "      <td>-1.295308</td>\n",
       "    </tr>\n",
       "    <tr>\n",
       "      <th>835</th>\n",
       "      <td>bug</td>\n",
       "      <td>-1.283752</td>\n",
       "    </tr>\n",
       "    <tr>\n",
       "      <th>4131</th>\n",
       "      <td>missions</td>\n",
       "      <td>-1.256867</td>\n",
       "    </tr>\n",
       "    <tr>\n",
       "      <th>3532</th>\n",
       "      <td>just</td>\n",
       "      <td>-1.241961</td>\n",
       "    </tr>\n",
       "    <tr>\n",
       "      <th>631</th>\n",
       "      <td>better</td>\n",
       "      <td>-1.192296</td>\n",
       "    </tr>\n",
       "    <tr>\n",
       "      <th>2616</th>\n",
       "      <td>frames</td>\n",
       "      <td>-1.166163</td>\n",
       "    </tr>\n",
       "    <tr>\n",
       "      <th>3035</th>\n",
       "      <td>help</td>\n",
       "      <td>-1.156481</td>\n",
       "    </tr>\n",
       "    <tr>\n",
       "      <th>7419</th>\n",
       "      <td>wondering</td>\n",
       "      <td>-1.141760</td>\n",
       "    </tr>\n",
       "    <tr>\n",
       "      <th>4168</th>\n",
       "      <td>mods</td>\n",
       "      <td>-1.122361</td>\n",
       "    </tr>\n",
       "    <tr>\n",
       "      <th>7284</th>\n",
       "      <td>warframes</td>\n",
       "      <td>-1.112578</td>\n",
       "    </tr>\n",
       "    <tr>\n",
       "      <th>7460</th>\n",
       "      <td>wukong</td>\n",
       "      <td>-1.092859</td>\n",
       "    </tr>\n",
       "    <tr>\n",
       "      <th>940</th>\n",
       "      <td>captura</td>\n",
       "      <td>-1.086922</td>\n",
       "    </tr>\n",
       "    <tr>\n",
       "      <th>4345</th>\n",
       "      <td>nightwave</td>\n",
       "      <td>-1.077516</td>\n",
       "    </tr>\n",
       "    <tr>\n",
       "      <th>347</th>\n",
       "      <td>archwing</td>\n",
       "      <td>-1.073996</td>\n",
       "    </tr>\n",
       "  </tbody>\n",
       "</table>\n",
       "</div>"
      ],
      "text/plain": [
       "       variable     value\n",
       "7276   warframe -3.741892\n",
       "4972      prime -2.640685\n",
       "844       build -1.589209\n",
       "4498   operator -1.551822\n",
       "2614      frame -1.376048\n",
       "4129    mission -1.353938\n",
       "6659      tenno -1.295308\n",
       "835         bug -1.283752\n",
       "4131   missions -1.256867\n",
       "3532       just -1.241961\n",
       "631      better -1.192296\n",
       "2616     frames -1.166163\n",
       "3035       help -1.156481\n",
       "7419  wondering -1.141760\n",
       "4168       mods -1.122361\n",
       "7284  warframes -1.112578\n",
       "7460     wukong -1.092859\n",
       "940     captura -1.086922\n",
       "4345  nightwave -1.077516\n",
       "347    archwing -1.073996"
      ]
     },
     "execution_count": 94,
     "metadata": {},
     "output_type": "execute_result"
    }
   ],
   "source": [
    "#top 20 key words that are relevant for Warframe\n",
    "df_log.head(20)"
   ]
  },
  {
   "cell_type": "code",
   "execution_count": 95,
   "metadata": {},
   "outputs": [
    {
     "data": {
      "text/html": [
       "<div>\n",
       "<style scoped>\n",
       "    .dataframe tbody tr th:only-of-type {\n",
       "        vertical-align: middle;\n",
       "    }\n",
       "\n",
       "    .dataframe tbody tr th {\n",
       "        vertical-align: top;\n",
       "    }\n",
       "\n",
       "    .dataframe thead th {\n",
       "        text-align: right;\n",
       "    }\n",
       "</style>\n",
       "<table border=\"1\" class=\"dataframe\">\n",
       "  <thead>\n",
       "    <tr style=\"text-align: right;\">\n",
       "      <th></th>\n",
       "      <th>variable</th>\n",
       "      <th>value</th>\n",
       "    </tr>\n",
       "  </thead>\n",
       "  <tbody>\n",
       "    <tr>\n",
       "      <th>989</th>\n",
       "      <td>caustic</td>\n",
       "      <td>1.155718</td>\n",
       "    </tr>\n",
       "    <tr>\n",
       "      <th>7448</th>\n",
       "      <td>wraith</td>\n",
       "      <td>1.170300</td>\n",
       "    </tr>\n",
       "    <tr>\n",
       "      <th>1181</th>\n",
       "      <td>clutch</td>\n",
       "      <td>1.188559</td>\n",
       "    </tr>\n",
       "    <tr>\n",
       "      <th>2799</th>\n",
       "      <td>gold</td>\n",
       "      <td>1.196397</td>\n",
       "    </tr>\n",
       "    <tr>\n",
       "      <th>540</th>\n",
       "      <td>bangalore</td>\n",
       "      <td>1.217846</td>\n",
       "    </tr>\n",
       "    <tr>\n",
       "      <th>6635</th>\n",
       "      <td>teammates</td>\n",
       "      <td>1.284757</td>\n",
       "    </tr>\n",
       "    <tr>\n",
       "      <th>2750</th>\n",
       "      <td>gibby</td>\n",
       "      <td>1.301021</td>\n",
       "    </tr>\n",
       "    <tr>\n",
       "      <th>5508</th>\n",
       "      <td>respawn</td>\n",
       "      <td>1.374351</td>\n",
       "    </tr>\n",
       "    <tr>\n",
       "      <th>3709</th>\n",
       "      <td>legends</td>\n",
       "      <td>1.374978</td>\n",
       "    </tr>\n",
       "    <tr>\n",
       "      <th>1021</th>\n",
       "      <td>challenges</td>\n",
       "      <td>1.377156</td>\n",
       "    </tr>\n",
       "    <tr>\n",
       "      <th>3570</th>\n",
       "      <td>kills</td>\n",
       "      <td>1.379797</td>\n",
       "    </tr>\n",
       "    <tr>\n",
       "      <th>3707</th>\n",
       "      <td>legend</td>\n",
       "      <td>1.388166</td>\n",
       "    </tr>\n",
       "    <tr>\n",
       "      <th>3984</th>\n",
       "      <td>match</td>\n",
       "      <td>1.587178</td>\n",
       "    </tr>\n",
       "    <tr>\n",
       "      <th>6634</th>\n",
       "      <td>teammate</td>\n",
       "      <td>1.707762</td>\n",
       "    </tr>\n",
       "    <tr>\n",
       "      <th>7308</th>\n",
       "      <td>wattson</td>\n",
       "      <td>1.723646</td>\n",
       "    </tr>\n",
       "    <tr>\n",
       "      <th>7385</th>\n",
       "      <td>win</td>\n",
       "      <td>1.775020</td>\n",
       "    </tr>\n",
       "    <tr>\n",
       "      <th>2693</th>\n",
       "      <td>game</td>\n",
       "      <td>1.837522</td>\n",
       "    </tr>\n",
       "    <tr>\n",
       "      <th>4664</th>\n",
       "      <td>pathfinder</td>\n",
       "      <td>2.087669</td>\n",
       "    </tr>\n",
       "    <tr>\n",
       "      <th>5215</th>\n",
       "      <td>ranked</td>\n",
       "      <td>2.186483</td>\n",
       "    </tr>\n",
       "    <tr>\n",
       "      <th>288</th>\n",
       "      <td>apex</td>\n",
       "      <td>3.746831</td>\n",
       "    </tr>\n",
       "  </tbody>\n",
       "</table>\n",
       "</div>"
      ],
      "text/plain": [
       "        variable     value\n",
       "989      caustic  1.155718\n",
       "7448      wraith  1.170300\n",
       "1181      clutch  1.188559\n",
       "2799        gold  1.196397\n",
       "540    bangalore  1.217846\n",
       "6635   teammates  1.284757\n",
       "2750       gibby  1.301021\n",
       "5508     respawn  1.374351\n",
       "3709     legends  1.374978\n",
       "1021  challenges  1.377156\n",
       "3570       kills  1.379797\n",
       "3707      legend  1.388166\n",
       "3984       match  1.587178\n",
       "6634    teammate  1.707762\n",
       "7308     wattson  1.723646\n",
       "7385         win  1.775020\n",
       "2693        game  1.837522\n",
       "4664  pathfinder  2.087669\n",
       "5215      ranked  2.186483\n",
       "288         apex  3.746831"
      ]
     },
     "execution_count": 95,
     "metadata": {},
     "output_type": "execute_result"
    }
   ],
   "source": [
    "#top 20 key words that are relevant for Apex Legends\n",
    "df_log.tail(20)"
   ]
  },
  {
   "cell_type": "code",
   "execution_count": 96,
   "metadata": {},
   "outputs": [
    {
     "data": {
      "text/plain": [
       "array([[213,  32],\n",
       "       [ 31, 219]])"
      ]
     },
     "execution_count": 96,
     "metadata": {},
     "output_type": "execute_result"
    }
   ],
   "source": [
    "cm = confusion_matrix(y_test, y_pred)\n",
    "cm"
   ]
  },
  {
   "cell_type": "code",
   "execution_count": 97,
   "metadata": {},
   "outputs": [],
   "source": [
    "tn, fp, fn, tp = confusion_matrix(y_test, y_pred).ravel()"
   ]
  },
  {
   "cell_type": "code",
   "execution_count": 98,
   "metadata": {},
   "outputs": [
    {
     "name": "stdout",
     "output_type": "stream",
     "text": [
      "True Negatives: 213\n",
      "False Positives: 32\n",
      "False Negatives: 31\n",
      "True Positives: 219\n"
     ]
    }
   ],
   "source": [
    "print(\"True Negatives: %s\" % tn)\n",
    "print(\"False Positives: %s\" % fp)\n",
    "print(\"False Negatives: %s\" % fn)\n",
    "print(\"True Positives: %s\" % tp)"
   ]
  },
  {
   "cell_type": "code",
   "execution_count": 99,
   "metadata": {},
   "outputs": [
    {
     "name": "stdout",
     "output_type": "stream",
     "text": [
      "model score on train data: 0.6866576819407008\n",
      "model score on test data: 0.5474747474747474\n",
      "Number of features: 7527\n"
     ]
    }
   ],
   "source": [
    "from sklearn.ensemble import BaggingClassifier\n",
    "knn = KNeighborsClassifier()\n",
    "model = make_pipeline(TfidfVectorizer(stop_words='english',\n",
    "                        sublinear_tf=True,\n",
    "                        max_df=0.5,\n",
    "                        token_pattern=r'(?u)\\b[a-zA-Z]{2,}\\b'),\n",
    "                      BaggingClassifier(base_estimator=knn, max_samples=0.5, max_features=0.5)\n",
    "                      )\n",
    "\n",
    "model_tf = model.fit(X_train, y_train)\n",
    "y_pred = model_tf.predict(X_test)\n",
    "print('model score on train data: {}'.format(model_tf.score(X_train, y_train)))\n",
    "print('model score on test data: {}'.format(accuracy_score(y_test, y_pred)))\n",
    "print(\"Number of features:\", len(model.steps[0][1].get_feature_names()))"
   ]
  },
  {
   "cell_type": "code",
   "execution_count": 100,
   "metadata": {},
   "outputs": [
    {
     "name": "stdout",
     "output_type": "stream",
     "text": [
      "Fitting 9 folds for each of 10 candidates, totalling 90 fits\n"
     ]
    },
    {
     "name": "stderr",
     "output_type": "stream",
     "text": [
      "[Parallel(n_jobs=1)]: Using backend SequentialBackend with 1 concurrent workers.\n",
      "[Parallel(n_jobs=1)]: Done  90 out of  90 | elapsed:   34.7s finished\n"
     ]
    },
    {
     "data": {
      "text/plain": [
       "GridSearchCV(cv=9, error_score='raise-deprecating',\n",
       "       estimator=KNeighborsClassifier(algorithm='auto', leaf_size=30, metric='minkowski',\n",
       "           metric_params=None, n_jobs=None, n_neighbors=5, p=2,\n",
       "           weights='uniform'),\n",
       "       fit_params=None, iid='warn', n_jobs=None,\n",
       "       param_grid={'n_neighbors': range(15, 25, 2), 'metric': ['euclidean', 'manhattan']},\n",
       "       pre_dispatch='2*n_jobs', refit=True, return_train_score=False,\n",
       "       scoring=None, verbose=1)"
      ]
     },
     "execution_count": 100,
     "metadata": {},
     "output_type": "execute_result"
    }
   ],
   "source": [
    "knn_params = {\n",
    "    'n_neighbors': range(15,25,2),\n",
    "    'metric' : ['euclidean', 'manhattan']\n",
    "}\n",
    "\n",
    "knn_gridsearch = GridSearchCV(\n",
    "    KNeighborsClassifier(),\n",
    "    knn_params,\n",
    "    cv=9,\n",
    "    verbose=1,\n",
    "    return_train_score=False\n",
    ")\n",
    "\n",
    "knn_gridsearch.fit(X_train_tvec, y_train)"
   ]
  },
  {
   "cell_type": "code",
   "execution_count": 101,
   "metadata": {},
   "outputs": [
    {
     "data": {
      "text/plain": [
       "0.8234501347708895"
      ]
     },
     "execution_count": 101,
     "metadata": {},
     "output_type": "execute_result"
    }
   ],
   "source": [
    "knn_gridsearch.best_score_"
   ]
  },
  {
   "cell_type": "code",
   "execution_count": 102,
   "metadata": {},
   "outputs": [
    {
     "data": {
      "text/plain": [
       "{'metric': 'euclidean', 'n_neighbors': 17}"
      ]
     },
     "execution_count": 102,
     "metadata": {},
     "output_type": "execute_result"
    }
   ],
   "source": [
    "knn_gridsearch.best_params_"
   ]
  },
  {
   "cell_type": "code",
   "execution_count": 103,
   "metadata": {},
   "outputs": [
    {
     "data": {
      "text/plain": [
       "KNeighborsClassifier(algorithm='auto', leaf_size=30, metric='euclidean',\n",
       "           metric_params=None, n_jobs=None, n_neighbors=17, p=2,\n",
       "           weights='uniform')"
      ]
     },
     "execution_count": 103,
     "metadata": {},
     "output_type": "execute_result"
    }
   ],
   "source": [
    "knn_gridsearch.best_estimator_"
   ]
  },
  {
   "cell_type": "code",
   "execution_count": 104,
   "metadata": {},
   "outputs": [],
   "source": [
    "knn = KNeighborsClassifier(algorithm='auto', leaf_size=30, metric='euclidean',\n",
    "           metric_params=None, n_jobs=None, n_neighbors=19, p=2,\n",
    "           weights='uniform')\n",
    "model = knn.fit(X_train_tvec, y_train)"
   ]
  },
  {
   "cell_type": "code",
   "execution_count": 105,
   "metadata": {},
   "outputs": [
    {
     "data": {
      "text/plain": [
       "0.8598382749326146"
      ]
     },
     "execution_count": 105,
     "metadata": {},
     "output_type": "execute_result"
    }
   ],
   "source": [
    "model.score(X_train_tvec, y_train)"
   ]
  },
  {
   "cell_type": "code",
   "execution_count": 106,
   "metadata": {},
   "outputs": [
    {
     "data": {
      "text/plain": [
       "0.8303030303030303"
      ]
     },
     "execution_count": 106,
     "metadata": {},
     "output_type": "execute_result"
    }
   ],
   "source": [
    "model.score(X_test_tvec, y_test)"
   ]
  },
  {
   "cell_type": "code",
   "execution_count": 107,
   "metadata": {},
   "outputs": [],
   "source": [
    "y_pred = model.predict(X_test_tvec)"
   ]
  },
  {
   "cell_type": "code",
   "execution_count": 108,
   "metadata": {},
   "outputs": [
    {
     "data": {
      "text/plain": [
       "array([[222,  23],\n",
       "       [ 61, 189]])"
      ]
     },
     "execution_count": 108,
     "metadata": {},
     "output_type": "execute_result"
    }
   ],
   "source": [
    "cm = confusion_matrix(y_test, y_pred)\n",
    "cm"
   ]
  },
  {
   "cell_type": "code",
   "execution_count": 109,
   "metadata": {},
   "outputs": [],
   "source": [
    "tn, fp, fn, tp = confusion_matrix(y_test, y_pred).ravel()"
   ]
  },
  {
   "cell_type": "code",
   "execution_count": 110,
   "metadata": {},
   "outputs": [
    {
     "name": "stdout",
     "output_type": "stream",
     "text": [
      "True Negatives: 222\n",
      "False Positives: 23\n",
      "False Negatives: 61\n",
      "True Positives: 189\n"
     ]
    }
   ],
   "source": [
    "print(\"True Negatives: %s\" % tn)\n",
    "print(\"False Positives: %s\" % fp)\n",
    "print(\"False Negatives: %s\" % fn)\n",
    "print(\"True Positives: %s\" % tp)"
   ]
  },
  {
   "cell_type": "code",
   "execution_count": 111,
   "metadata": {},
   "outputs": [
    {
     "name": "stdout",
     "output_type": "stream",
     "text": [
      "model score on train data: 0.9797843665768194\n",
      "model score on test data: 0.8848484848484849\n",
      "Number of features: 7527\n"
     ]
    }
   ],
   "source": [
    "model = make_pipeline(TfidfVectorizer(stop_words='english',\n",
    "                                      sublinear_tf=True,\n",
    "                                      max_df=0.5,\n",
    "                                      token_pattern=r'(?u)\\b[a-zA-Z]{2,}\\b'),\n",
    "                      MultinomialNB(),\n",
    "                      )\n",
    "model_tf = model.fit(X_train, y_train)\n",
    "y_pred = model_tf.predict(X_test)\n",
    "print('model score on train data: {}'.format(model_tf.score(X_train, y_train)))\n",
    "print('model score on test data: {}'.format(accuracy_score(y_test, y_pred)))\n",
    "print(\"Number of features:\", len(model.steps[0][1].get_feature_names()))"
   ]
  },
  {
   "cell_type": "code",
   "execution_count": 112,
   "metadata": {},
   "outputs": [
    {
     "data": {
      "text/plain": [
       "{'tfidfvectorizer': TfidfVectorizer(analyzer='word', binary=False, decode_error='strict',\n",
       "         dtype=<class 'numpy.float64'>, encoding='utf-8', input='content',\n",
       "         lowercase=True, max_df=0.5, max_features=None, min_df=1,\n",
       "         ngram_range=(1, 1), norm='l2', preprocessor=None, smooth_idf=True,\n",
       "         stop_words='english', strip_accents=None, sublinear_tf=True,\n",
       "         token_pattern='(?u)\\\\b[a-zA-Z]{2,}\\\\b', tokenizer=None,\n",
       "         use_idf=True, vocabulary=None),\n",
       " 'multinomialnb': MultinomialNB(alpha=1.0, class_prior=None, fit_prior=True)}"
      ]
     },
     "execution_count": 112,
     "metadata": {},
     "output_type": "execute_result"
    }
   ],
   "source": [
    "model_tf.named_steps"
   ]
  },
  {
   "cell_type": "code",
   "execution_count": 113,
   "metadata": {},
   "outputs": [],
   "source": [
    "df_multi = pd.DataFrame(model_tf.named_steps.multinomialnb.coef_)"
   ]
  },
  {
   "cell_type": "code",
   "execution_count": 114,
   "metadata": {},
   "outputs": [],
   "source": [
    "df_multi.columns = model_tf.named_steps.tfidfvectorizer.get_feature_names()"
   ]
  },
  {
   "cell_type": "code",
   "execution_count": 115,
   "metadata": {},
   "outputs": [
    {
     "data": {
      "text/html": [
       "<div>\n",
       "<style scoped>\n",
       "    .dataframe tbody tr th:only-of-type {\n",
       "        vertical-align: middle;\n",
       "    }\n",
       "\n",
       "    .dataframe tbody tr th {\n",
       "        vertical-align: top;\n",
       "    }\n",
       "\n",
       "    .dataframe thead th {\n",
       "        text-align: right;\n",
       "    }\n",
       "</style>\n",
       "<table border=\"1\" class=\"dataframe\">\n",
       "  <thead>\n",
       "    <tr style=\"text-align: right;\">\n",
       "      <th></th>\n",
       "      <th>aaaand</th>\n",
       "      <th>abandoned</th>\n",
       "      <th>abandoning</th>\n",
       "      <th>abc</th>\n",
       "      <th>abilities</th>\n",
       "      <th>abilitiesi</th>\n",
       "      <th>ability</th>\n",
       "      <th>able</th>\n",
       "      <th>abnormally</th>\n",
       "      <th>aboard</th>\n",
       "      <th>...</th>\n",
       "      <th>zipline</th>\n",
       "      <th>ziplines</th>\n",
       "      <th>zipped</th>\n",
       "      <th>zipping</th>\n",
       "      <th>zone</th>\n",
       "      <th>zoned</th>\n",
       "      <th>zones</th>\n",
       "      <th>zoom</th>\n",
       "      <th>zopney</th>\n",
       "      <th>zotac</th>\n",
       "    </tr>\n",
       "  </thead>\n",
       "  <tbody>\n",
       "    <tr>\n",
       "      <th>0</th>\n",
       "      <td>-9.208863</td>\n",
       "      <td>-9.063953</td>\n",
       "      <td>-9.057981</td>\n",
       "      <td>-9.027315</td>\n",
       "      <td>-8.920346</td>\n",
       "      <td>-9.208863</td>\n",
       "      <td>-8.368399</td>\n",
       "      <td>-8.030579</td>\n",
       "      <td>-8.857243</td>\n",
       "      <td>-9.208863</td>\n",
       "      <td>...</td>\n",
       "      <td>-8.205598</td>\n",
       "      <td>-8.774714</td>\n",
       "      <td>-9.062018</td>\n",
       "      <td>-9.208863</td>\n",
       "      <td>-8.451381</td>\n",
       "      <td>-8.971569</td>\n",
       "      <td>-9.037196</td>\n",
       "      <td>-9.208863</td>\n",
       "      <td>-9.208863</td>\n",
       "      <td>-9.068323</td>\n",
       "    </tr>\n",
       "  </tbody>\n",
       "</table>\n",
       "<p>1 rows × 7527 columns</p>\n",
       "</div>"
      ],
      "text/plain": [
       "     aaaand  abandoned  abandoning       abc  abilities  abilitiesi   ability  \\\n",
       "0 -9.208863  -9.063953   -9.057981 -9.027315  -8.920346   -9.208863 -8.368399   \n",
       "\n",
       "       able  abnormally    aboard  ...   zipline  ziplines    zipped  \\\n",
       "0 -8.030579   -8.857243 -9.208863  ... -8.205598 -8.774714 -9.062018   \n",
       "\n",
       "    zipping      zone     zoned     zones      zoom    zopney     zotac  \n",
       "0 -9.208863 -8.451381 -8.971569 -9.037196 -9.208863 -9.208863 -9.068323  \n",
       "\n",
       "[1 rows x 7527 columns]"
      ]
     },
     "execution_count": 115,
     "metadata": {},
     "output_type": "execute_result"
    }
   ],
   "source": [
    "df_multi.head()"
   ]
  },
  {
   "cell_type": "code",
   "execution_count": 116,
   "metadata": {},
   "outputs": [],
   "source": [
    "df_multi = df_multi.reset_index() #Make your index into a column\n",
    "df_multi = pd.melt(df_multi, id_vars = ['index']) #Reshape data"
   ]
  },
  {
   "cell_type": "code",
   "execution_count": 117,
   "metadata": {},
   "outputs": [
    {
     "data": {
      "text/html": [
       "<div>\n",
       "<style scoped>\n",
       "    .dataframe tbody tr th:only-of-type {\n",
       "        vertical-align: middle;\n",
       "    }\n",
       "\n",
       "    .dataframe tbody tr th {\n",
       "        vertical-align: top;\n",
       "    }\n",
       "\n",
       "    .dataframe thead th {\n",
       "        text-align: right;\n",
       "    }\n",
       "</style>\n",
       "<table border=\"1\" class=\"dataframe\">\n",
       "  <thead>\n",
       "    <tr style=\"text-align: right;\">\n",
       "      <th></th>\n",
       "      <th>index</th>\n",
       "      <th>variable</th>\n",
       "      <th>value</th>\n",
       "    </tr>\n",
       "  </thead>\n",
       "  <tbody>\n",
       "    <tr>\n",
       "      <th>0</th>\n",
       "      <td>-9.208863</td>\n",
       "      <td>level_0</td>\n",
       "      <td>0.000000</td>\n",
       "    </tr>\n",
       "    <tr>\n",
       "      <th>1</th>\n",
       "      <td>-9.208863</td>\n",
       "      <td>aaaand</td>\n",
       "      <td>-9.208863</td>\n",
       "    </tr>\n",
       "    <tr>\n",
       "      <th>2</th>\n",
       "      <td>-9.208863</td>\n",
       "      <td>abandoned</td>\n",
       "      <td>-9.063953</td>\n",
       "    </tr>\n",
       "    <tr>\n",
       "      <th>3</th>\n",
       "      <td>-9.208863</td>\n",
       "      <td>abandoning</td>\n",
       "      <td>-9.057981</td>\n",
       "    </tr>\n",
       "    <tr>\n",
       "      <th>4</th>\n",
       "      <td>-9.208863</td>\n",
       "      <td>abc</td>\n",
       "      <td>-9.027315</td>\n",
       "    </tr>\n",
       "  </tbody>\n",
       "</table>\n",
       "</div>"
      ],
      "text/plain": [
       "      index    variable     value\n",
       "0 -9.208863     level_0  0.000000\n",
       "1 -9.208863      aaaand -9.208863\n",
       "2 -9.208863   abandoned -9.063953\n",
       "3 -9.208863  abandoning -9.057981\n",
       "4 -9.208863         abc -9.027315"
      ]
     },
     "execution_count": 117,
     "metadata": {},
     "output_type": "execute_result"
    }
   ],
   "source": [
    "df_multi.head()"
   ]
  },
  {
   "cell_type": "code",
   "execution_count": 118,
   "metadata": {},
   "outputs": [],
   "source": [
    "df_multi = df_multi.drop(columns='index').sort_values(by = 'value') #Remove duplicates, sort"
   ]
  },
  {
   "cell_type": "code",
   "execution_count": 119,
   "metadata": {},
   "outputs": [
    {
     "data": {
      "text/html": [
       "<div>\n",
       "<style scoped>\n",
       "    .dataframe tbody tr th:only-of-type {\n",
       "        vertical-align: middle;\n",
       "    }\n",
       "\n",
       "    .dataframe tbody tr th {\n",
       "        vertical-align: top;\n",
       "    }\n",
       "\n",
       "    .dataframe thead th {\n",
       "        text-align: right;\n",
       "    }\n",
       "</style>\n",
       "<table border=\"1\" class=\"dataframe\">\n",
       "  <thead>\n",
       "    <tr style=\"text-align: right;\">\n",
       "      <th></th>\n",
       "      <th>variable</th>\n",
       "      <th>value</th>\n",
       "    </tr>\n",
       "  </thead>\n",
       "  <tbody>\n",
       "    <tr>\n",
       "      <th>3156</th>\n",
       "      <td>hugging</td>\n",
       "      <td>-9.208863</td>\n",
       "    </tr>\n",
       "    <tr>\n",
       "      <th>5126</th>\n",
       "      <td>qcmopoq</td>\n",
       "      <td>-9.208863</td>\n",
       "    </tr>\n",
       "    <tr>\n",
       "      <th>2811</th>\n",
       "      <td>goosebumps</td>\n",
       "      <td>-9.208863</td>\n",
       "    </tr>\n",
       "    <tr>\n",
       "      <th>2813</th>\n",
       "      <td>gorgon</td>\n",
       "      <td>-9.208863</td>\n",
       "    </tr>\n",
       "    <tr>\n",
       "      <th>5122</th>\n",
       "      <td>pyramid</td>\n",
       "      <td>-9.208863</td>\n",
       "    </tr>\n",
       "    <tr>\n",
       "      <th>2815</th>\n",
       "      <td>gospel</td>\n",
       "      <td>-9.208863</td>\n",
       "    </tr>\n",
       "    <tr>\n",
       "      <th>7025</th>\n",
       "      <td>underranked</td>\n",
       "      <td>-9.208863</td>\n",
       "    </tr>\n",
       "    <tr>\n",
       "      <th>2817</th>\n",
       "      <td>goth</td>\n",
       "      <td>-9.208863</td>\n",
       "    </tr>\n",
       "    <tr>\n",
       "      <th>5119</th>\n",
       "      <td>pvp</td>\n",
       "      <td>-9.208863</td>\n",
       "    </tr>\n",
       "    <tr>\n",
       "      <th>5117</th>\n",
       "      <td>puzzle</td>\n",
       "      <td>-9.208863</td>\n",
       "    </tr>\n",
       "    <tr>\n",
       "      <th>2822</th>\n",
       "      <td>grabbing</td>\n",
       "      <td>-9.208863</td>\n",
       "    </tr>\n",
       "    <tr>\n",
       "      <th>2823</th>\n",
       "      <td>gradually</td>\n",
       "      <td>-9.208863</td>\n",
       "    </tr>\n",
       "    <tr>\n",
       "      <th>2824</th>\n",
       "      <td>grakata</td>\n",
       "      <td>-9.208863</td>\n",
       "    </tr>\n",
       "    <tr>\n",
       "      <th>2825</th>\n",
       "      <td>gram</td>\n",
       "      <td>-9.208863</td>\n",
       "    </tr>\n",
       "    <tr>\n",
       "      <th>2826</th>\n",
       "      <td>grammar</td>\n",
       "      <td>-9.208863</td>\n",
       "    </tr>\n",
       "    <tr>\n",
       "      <th>2827</th>\n",
       "      <td>grand</td>\n",
       "      <td>-9.208863</td>\n",
       "    </tr>\n",
       "    <tr>\n",
       "      <th>2829</th>\n",
       "      <td>granted</td>\n",
       "      <td>-9.208863</td>\n",
       "    </tr>\n",
       "    <tr>\n",
       "      <th>2830</th>\n",
       "      <td>granting</td>\n",
       "      <td>-9.208863</td>\n",
       "    </tr>\n",
       "    <tr>\n",
       "      <th>2831</th>\n",
       "      <td>grants</td>\n",
       "      <td>-9.208863</td>\n",
       "    </tr>\n",
       "    <tr>\n",
       "      <th>6532</th>\n",
       "      <td>swing</td>\n",
       "      <td>-9.208863</td>\n",
       "    </tr>\n",
       "  </tbody>\n",
       "</table>\n",
       "</div>"
      ],
      "text/plain": [
       "         variable     value\n",
       "3156      hugging -9.208863\n",
       "5126      qcmopoq -9.208863\n",
       "2811   goosebumps -9.208863\n",
       "2813       gorgon -9.208863\n",
       "5122      pyramid -9.208863\n",
       "2815       gospel -9.208863\n",
       "7025  underranked -9.208863\n",
       "2817         goth -9.208863\n",
       "5119          pvp -9.208863\n",
       "5117       puzzle -9.208863\n",
       "2822     grabbing -9.208863\n",
       "2823    gradually -9.208863\n",
       "2824      grakata -9.208863\n",
       "2825         gram -9.208863\n",
       "2826      grammar -9.208863\n",
       "2827        grand -9.208863\n",
       "2829      granted -9.208863\n",
       "2830     granting -9.208863\n",
       "2831       grants -9.208863\n",
       "6532        swing -9.208863"
      ]
     },
     "execution_count": 119,
     "metadata": {},
     "output_type": "execute_result"
    }
   ],
   "source": [
    "#top 20 key words that are relevant for Warframe\n",
    "df_multi.head(20)"
   ]
  },
  {
   "cell_type": "code",
   "execution_count": 120,
   "metadata": {},
   "outputs": [
    {
     "data": {
      "text/html": [
       "<div>\n",
       "<style scoped>\n",
       "    .dataframe tbody tr th:only-of-type {\n",
       "        vertical-align: middle;\n",
       "    }\n",
       "\n",
       "    .dataframe tbody tr th {\n",
       "        vertical-align: top;\n",
       "    }\n",
       "\n",
       "    .dataframe thead th {\n",
       "        text-align: right;\n",
       "    }\n",
       "</style>\n",
       "<table border=\"1\" class=\"dataframe\">\n",
       "  <thead>\n",
       "    <tr style=\"text-align: right;\">\n",
       "      <th></th>\n",
       "      <th>variable</th>\n",
       "      <th>value</th>\n",
       "    </tr>\n",
       "  </thead>\n",
       "  <tbody>\n",
       "    <tr>\n",
       "      <th>3596</th>\n",
       "      <td>know</td>\n",
       "      <td>-7.144298</td>\n",
       "    </tr>\n",
       "    <tr>\n",
       "      <th>3570</th>\n",
       "      <td>kills</td>\n",
       "      <td>-7.143765</td>\n",
       "    </tr>\n",
       "    <tr>\n",
       "      <th>3709</th>\n",
       "      <td>legends</td>\n",
       "      <td>-7.117982</td>\n",
       "    </tr>\n",
       "    <tr>\n",
       "      <th>6258</th>\n",
       "      <td>squad</td>\n",
       "      <td>-7.055298</td>\n",
       "    </tr>\n",
       "    <tr>\n",
       "      <th>7308</th>\n",
       "      <td>wattson</td>\n",
       "      <td>-7.050190</td>\n",
       "    </tr>\n",
       "    <tr>\n",
       "      <th>6634</th>\n",
       "      <td>teammate</td>\n",
       "      <td>-7.024906</td>\n",
       "    </tr>\n",
       "    <tr>\n",
       "      <th>6721</th>\n",
       "      <td>think</td>\n",
       "      <td>-6.998852</td>\n",
       "    </tr>\n",
       "    <tr>\n",
       "      <th>3984</th>\n",
       "      <td>match</td>\n",
       "      <td>-6.990577</td>\n",
       "    </tr>\n",
       "    <tr>\n",
       "      <th>4664</th>\n",
       "      <td>pathfinder</td>\n",
       "      <td>-6.965961</td>\n",
       "    </tr>\n",
       "    <tr>\n",
       "      <th>1905</th>\n",
       "      <td>don</td>\n",
       "      <td>-6.895478</td>\n",
       "    </tr>\n",
       "    <tr>\n",
       "      <th>2816</th>\n",
       "      <td>got</td>\n",
       "      <td>-6.873038</td>\n",
       "    </tr>\n",
       "    <tr>\n",
       "      <th>7385</th>\n",
       "      <td>win</td>\n",
       "      <td>-6.835717</td>\n",
       "    </tr>\n",
       "    <tr>\n",
       "      <th>4830</th>\n",
       "      <td>play</td>\n",
       "      <td>-6.742253</td>\n",
       "    </tr>\n",
       "    <tr>\n",
       "      <th>5215</th>\n",
       "      <td>ranked</td>\n",
       "      <td>-6.714168</td>\n",
       "    </tr>\n",
       "    <tr>\n",
       "      <th>6779</th>\n",
       "      <td>time</td>\n",
       "      <td>-6.706523</td>\n",
       "    </tr>\n",
       "    <tr>\n",
       "      <th>3761</th>\n",
       "      <td>like</td>\n",
       "      <td>-6.664151</td>\n",
       "    </tr>\n",
       "    <tr>\n",
       "      <th>3532</th>\n",
       "      <td>just</td>\n",
       "      <td>-6.585251</td>\n",
       "    </tr>\n",
       "    <tr>\n",
       "      <th>2693</th>\n",
       "      <td>game</td>\n",
       "      <td>-6.214427</td>\n",
       "    </tr>\n",
       "    <tr>\n",
       "      <th>288</th>\n",
       "      <td>apex</td>\n",
       "      <td>-6.151671</td>\n",
       "    </tr>\n",
       "    <tr>\n",
       "      <th>0</th>\n",
       "      <td>level_0</td>\n",
       "      <td>0.000000</td>\n",
       "    </tr>\n",
       "  </tbody>\n",
       "</table>\n",
       "</div>"
      ],
      "text/plain": [
       "        variable     value\n",
       "3596        know -7.144298\n",
       "3570       kills -7.143765\n",
       "3709     legends -7.117982\n",
       "6258       squad -7.055298\n",
       "7308     wattson -7.050190\n",
       "6634    teammate -7.024906\n",
       "6721       think -6.998852\n",
       "3984       match -6.990577\n",
       "4664  pathfinder -6.965961\n",
       "1905         don -6.895478\n",
       "2816         got -6.873038\n",
       "7385         win -6.835717\n",
       "4830        play -6.742253\n",
       "5215      ranked -6.714168\n",
       "6779        time -6.706523\n",
       "3761        like -6.664151\n",
       "3532        just -6.585251\n",
       "2693        game -6.214427\n",
       "288         apex -6.151671\n",
       "0        level_0  0.000000"
      ]
     },
     "execution_count": 120,
     "metadata": {},
     "output_type": "execute_result"
    }
   ],
   "source": [
    "#top 20 key words that are relevant for Apex Legends\n",
    "df_multi.tail(20)"
   ]
  },
  {
   "cell_type": "code",
   "execution_count": 121,
   "metadata": {},
   "outputs": [
    {
     "data": {
      "text/plain": [
       "array([[216,  29],\n",
       "       [ 28, 222]])"
      ]
     },
     "execution_count": 121,
     "metadata": {},
     "output_type": "execute_result"
    }
   ],
   "source": [
    "cm = confusion_matrix(y_test, y_pred)\n",
    "cm"
   ]
  },
  {
   "cell_type": "code",
   "execution_count": 122,
   "metadata": {},
   "outputs": [],
   "source": [
    "tn, fp, fn, tp = confusion_matrix(y_test, y_pred).ravel()"
   ]
  },
  {
   "cell_type": "code",
   "execution_count": 123,
   "metadata": {},
   "outputs": [
    {
     "name": "stdout",
     "output_type": "stream",
     "text": [
      "True Negatives: 216\n",
      "False Positives: 29\n",
      "False Negatives: 28\n",
      "True Positives: 222\n"
     ]
    }
   ],
   "source": [
    "print(\"True Negatives: %s\" % tn)\n",
    "print(\"False Positives: %s\" % fp)\n",
    "print(\"False Negatives: %s\" % fn)\n",
    "print(\"True Positives: %s\" % tp)"
   ]
  },
  {
   "cell_type": "code",
   "execution_count": 124,
   "metadata": {},
   "outputs": [
    {
     "name": "stdout",
     "output_type": "stream",
     "text": [
      "model score on train data: 0.7884097035040432\n",
      "model score on test data: 0.7333333333333333\n",
      "Number of features: 7527\n"
     ]
    }
   ],
   "source": [
    "model = make_pipeline(TfidfVectorizer(stop_words='english',\n",
    "                                      sublinear_tf=True,\n",
    "                                      max_df=0.7,\n",
    "                                      token_pattern=r'(?u)\\b[a-zA-Z]{2,}\\b'),\n",
    "                      BernoulliNB(),\n",
    "                      )\n",
    "model_tf = model.fit(X_train, y_train)\n",
    "y_pred = model_tf.predict(X_test)\n",
    "print('model score on train data: {}'.format(model_tf.score(X_train, y_train)))\n",
    "print('model score on test data: {}'.format(accuracy_score(y_test, y_pred)))\n",
    "print(\"Number of features:\", len(model.steps[0][1].get_feature_names()))"
   ]
  },
  {
   "cell_type": "code",
   "execution_count": 125,
   "metadata": {},
   "outputs": [
    {
     "data": {
      "text/plain": [
       "array([[116, 129],\n",
       "       [  3, 247]])"
      ]
     },
     "execution_count": 125,
     "metadata": {},
     "output_type": "execute_result"
    }
   ],
   "source": [
    "cm = confusion_matrix(y_test, y_pred)\n",
    "cm"
   ]
  },
  {
   "cell_type": "code",
   "execution_count": 126,
   "metadata": {},
   "outputs": [],
   "source": [
    "tn, fp, fn, tp = confusion_matrix(y_test, y_pred).ravel()"
   ]
  },
  {
   "cell_type": "code",
   "execution_count": 127,
   "metadata": {},
   "outputs": [
    {
     "name": "stdout",
     "output_type": "stream",
     "text": [
      "True Negatives: 116\n",
      "False Positives: 129\n",
      "False Negatives: 3\n",
      "True Positives: 247\n"
     ]
    }
   ],
   "source": [
    "print(\"True Negatives: %s\" % tn)\n",
    "print(\"False Positives: %s\" % fp)\n",
    "print(\"False Negatives: %s\" % fn)\n",
    "print(\"True Positives: %s\" % tp)"
   ]
  },
  {
   "cell_type": "code",
   "execution_count": 128,
   "metadata": {},
   "outputs": [
    {
     "name": "stdout",
     "output_type": "stream",
     "text": [
      "model score on train data: 0.9696765498652291\n",
      "model score on test data: 0.8646464646464647\n",
      "Number of features: 7527\n"
     ]
    }
   ],
   "source": [
    "X_train_tvec = X_train_tvec.toarray()\n",
    "model_gnb = gnb.fit(X_train_tvec, y_train)\n",
    "X_test_tvec = X_test_tvec.toarray()\n",
    "predictions_gnb = model_gnb.predict(X_test_tvec)\n",
    "print('model score on train data: {}'.format(model_gnb.score(X_train_tvec, y_train)))\n",
    "print('model score on test data: {}'.format(accuracy_score(y_test, predictions_gnb)))\n",
    "print(\"Number of features:\", len(model.steps[0][1].get_feature_names()))"
   ]
  },
  {
   "cell_type": "code",
   "execution_count": 129,
   "metadata": {},
   "outputs": [
    {
     "data": {
      "text/plain": [
       "array([[202,  43],\n",
       "       [ 24, 226]])"
      ]
     },
     "execution_count": 129,
     "metadata": {},
     "output_type": "execute_result"
    }
   ],
   "source": [
    "cm = confusion_matrix(y_test, predictions_gnb)\n",
    "cm"
   ]
  },
  {
   "cell_type": "code",
   "execution_count": 130,
   "metadata": {},
   "outputs": [],
   "source": [
    "tn, fp, fn, tp = confusion_matrix(y_test, predictions_gnb).ravel()"
   ]
  },
  {
   "cell_type": "code",
   "execution_count": 131,
   "metadata": {},
   "outputs": [
    {
     "name": "stdout",
     "output_type": "stream",
     "text": [
      "True Negatives: 202\n",
      "False Positives: 43\n",
      "False Negatives: 24\n",
      "True Positives: 226\n"
     ]
    }
   ],
   "source": [
    "print(\"True Negatives: %s\" % tn)\n",
    "print(\"False Positives: %s\" % fp)\n",
    "print(\"False Negatives: %s\" % fn)\n",
    "print(\"True Positives: %s\" % tp)"
   ]
  },
  {
   "cell_type": "markdown",
   "metadata": {},
   "source": [
    "## Conclusion\n",
    "\n",
    "For this example, there is no difference between a false positive and false negative. A false positive is a post that is predicted to be on Apex Legends and is in fact a WarFrame post. In scenarios where positive outcomes are more serious like detecting cancer, pregnancy or fraud, a false positive is preferred over a false negative. One way to think of this is a false negative is a positive occurence that managed to 'slip' under the radar. Whereas a false positive is negative scenario(usually good) detected as a positive outcome (usually bad and the ones we want to detect). This is a relatively straightforward classification case.\n",
    "\n",
    "A practical use case can be filtering news/forum posts into specific industry news and go further by performing sentiment analysis. This can be useful for market analysis and in today's context, predict a probability of a recession. Comparing traditional ways of doing surveys to collect data, this is a much more efficient way to collect and analyse information. Regardless of where information is collected, one drawback is the quality of information.\n",
    "\n",
    "## Summary between models\n",
    "\n",
    "The ideal model to be used in this case is Multinomial Naive Bayes' model as the columns of X are integer counts. Hence this model is likely to give the highest score. A fairly close result of false negatives and positives is yielded.\n",
    "\n",
    "Bernoulli functions best when the columns of X are dummy variables/one-hot encoded. It is not very applicable here as we can see from the lower model score.\n",
    "\n",
    "Gaussian functions best when the columns of X are Normally distributed. In this case, it is not very applicable as well. One note is it also gives a fairly close result of false negatives and positives unlike the Bernoulli function where false positives >> false negatives.\n",
    "\n",
    "A logistic Regression\n",
    "Grid search was not very useful and returned a best penalty of 1.0. However, the model score is high.\n",
    "\n",
    "KNearestNeighbor (KNN) on its own, the model scored very poorly on the train data and even worse on the test data. There is no change when using grid search to improve the parameters of KNN when using CountVectorizer. However, grid search vastly improved the score of KNN model when using Tfidf-Vectorizer.\n",
    "\n",
    "## Comparison between the 2 vectorizer\n",
    "Modelling wise, the train score tended to be slightly lower for TfidfVectorizer than CountVectorizer. But the test score is improved for TfidfVectorizer as compared to the CountVectorizer.\n"
   ]
  },
  {
   "cell_type": "code",
   "execution_count": null,
   "metadata": {},
   "outputs": [],
   "source": []
  }
 ],
 "metadata": {
  "kernelspec": {
   "display_name": "Python 3",
   "language": "python",
   "name": "python3"
  },
  "language_info": {
   "codemirror_mode": {
    "name": "ipython",
    "version": 3
   },
   "file_extension": ".py",
   "mimetype": "text/x-python",
   "name": "python",
   "nbconvert_exporter": "python",
   "pygments_lexer": "ipython3",
   "version": "3.7.3"
  }
 },
 "nbformat": 4,
 "nbformat_minor": 2
}
